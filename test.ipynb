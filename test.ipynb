{
 "cells": [
  {
   "cell_type": "code",
   "execution_count": 106,
   "metadata": {},
   "outputs": [],
   "source": [
    "from sklearn.utils import murmurhash3_32\n",
    "import random\n",
    "import sys\n",
    "\n",
    "random.seed(13)\n",
    "\n",
    "def h(x, seed, R):\n",
    "    return murmurhash3_32(key=x, seed=seed) % R\n",
    "\n",
    "class CountMinSketch:\n",
    "  def __init__(self, d: int, R: int):\n",
    "    self.d = d\n",
    "    self.R = R\n",
    "    self.array = []\n",
    "\n",
    "    for _i in range(d):\n",
    "      self.array.append([0] * R)\n",
    "\n",
    "  def insert(self, token: str):\n",
    "    for i in range(self.d):\n",
    "      hash = h(token, i, self.R)\n",
    "      self.array[i][hash] += 1\n",
    "\n",
    "  def query(self, token: str):\n",
    "    res = []\n",
    "    for i in range(self.d):\n",
    "      hash = h(token, i, self.R)\n",
    "      res.append(self.array[i][hash])\n",
    "    return min(res)\n",
    "  \n",
    "  def get_memory_usage(self):\n",
    "    memory = sys.getsizeof(self)\n",
    "    for subarray in self.array:\n",
    "      memory += sys.getsizeof(subarray)\n",
    "    return memory"
   ]
  },
  {
   "cell_type": "code",
   "execution_count": 107,
   "metadata": {},
   "outputs": [],
   "source": [
    "from collections import defaultdict\n",
    "from Oracle import Oracle\n",
    "\n",
    "class CountMinSketchWithOracle(CountMinSketch):\n",
    "\n",
    "  def __init__(self, d: int, R: int, oracle: Oracle):\n",
    "    super().__init__(d, R)\n",
    "    self.oracle = oracle\n",
    "    self.heavy_hitter_counts = defaultdict(int)\n",
    "\n",
    "  def insert(self, token: str):\n",
    "    if token in self.heavy_hitter_counts or self.oracle.predict_heavy_hitter(token) == 1:\n",
    "      self.heavy_hitter_counts[token] += 1\n",
    "    else:\n",
    "      super().insert(token)\n",
    "\n",
    "  def query(self, token: str):\n",
    "    if token in self.heavy_hitter_counts:\n",
    "      # print(self.heavy_hitter_counts)\n",
    "      return self.heavy_hitter_counts[token]\n",
    "    else:\n",
    "      return super().query(token)\n",
    "    \n",
    "  def get_memory_usage(self):\n",
    "    return super().get_memory_usage() + self.oracle.get_memory_usage() + sys.getsizeof(self.heavy_hitter_counts)"
   ]
  },
  {
   "cell_type": "code",
   "execution_count": 110,
   "metadata": {},
   "outputs": [],
   "source": [
    "import pandas as pd\n",
    "\n",
    "queries = []\n",
    "for i in range(1, 2):\n",
    "    data = pd.read_csv('data/aol/user-ct-test-collection-0' + str(i) + '.txt', sep=\"\\t\")\n",
    "    queries.extend(data.Query.dropna())"
   ]
  },
  {
   "cell_type": "code",
   "execution_count": 111,
   "metadata": {},
   "outputs": [],
   "source": [
    "from collections import Counter \n",
    "\n",
    "tokens_freq = Counter(queries)"
   ]
  },
  {
   "cell_type": "code",
   "execution_count": 112,
   "metadata": {},
   "outputs": [
    {
     "name": "stdout",
     "output_type": "stream",
     "text": [
      "1216652\n"
     ]
    }
   ],
   "source": [
    "print(len(tokens_freq))"
   ]
  },
  {
   "cell_type": "code",
   "execution_count": 114,
   "metadata": {},
   "outputs": [
    {
     "name": "stderr",
     "output_type": "stream",
     "text": [
      "/var/folders/4n/ghvzsdpj5nq5mtt0z1brxsm00000gn/T/ipykernel_79522/737723934.py:3: DeprecationWarning: Sampling from a set deprecated\n",
      "since Python 3.9 and will be removed in a subsequent version.\n",
      "  random_tokens = random.sample(tokens_freq.items(), 100)\n"
     ]
    }
   ],
   "source": [
    "freq_tokens = tokens_freq.most_common(100)\n",
    "infreq_tokens = tokens_freq.most_common()[:-101:-1]\n",
    "random_tokens = random.sample(tokens_freq.items(), 100)"
   ]
  },
  {
   "cell_type": "code",
   "execution_count": 115,
   "metadata": {},
   "outputs": [],
   "source": [
    "common_tokens = tokens_freq.most_common(1000)"
   ]
  },
  {
   "cell_type": "code",
   "execution_count": 116,
   "metadata": {},
   "outputs": [],
   "source": [
    "D = 4"
   ]
  },
  {
   "cell_type": "code",
   "execution_count": 118,
   "metadata": {},
   "outputs": [],
   "source": [
    "sketches = [CountMinSketch(D, 2 ** R) for R in range(13, 17)]"
   ]
  },
  {
   "cell_type": "code",
   "execution_count": 119,
   "metadata": {},
   "outputs": [],
   "source": [
    "for query in queries:\n",
    "    for sketch in sketches:\n",
    "        sketch.insert(query)"
   ]
  },
  {
   "cell_type": "markdown",
   "metadata": {},
   "source": [
    "## Ideal Oracle (For Benchmarking)"
   ]
  },
  {
   "cell_type": "code",
   "execution_count": 120,
   "metadata": {},
   "outputs": [],
   "source": [
    "class IdealOracle(Oracle): \n",
    "  \n",
    "    def predict_heavy_hitter(self, token): \n",
    "        if token in tokens_freq and tokens_freq[token] >= 200:\n",
    "            return 1\n",
    "        else: \n",
    "            return 0\n",
    "\n",
    "    def get_memory_usage(self): \n",
    "        return 0\n",
    "\n",
    "ideal_oracle = IdealOracle()\n",
    "sketches_with_oracles = [CountMinSketchWithOracle(D, 2 ** R, ideal_oracle) for R in range(13, 17)]"
   ]
  },
  {
   "cell_type": "code",
   "execution_count": 121,
   "metadata": {},
   "outputs": [],
   "source": [
    "for query in queries:\n",
    "    for sketch in sketches_with_oracles:\n",
    "        sketch.insert(query)"
   ]
  },
  {
   "cell_type": "markdown",
   "metadata": {},
   "source": [
    "## Logistic Regression"
   ]
  },
  {
   "cell_type": "markdown",
   "metadata": {},
   "source": [
    "### Training The Model"
   ]
  },
  {
   "cell_type": "code",
   "execution_count": 251,
   "metadata": {},
   "outputs": [],
   "source": [
    "DECISION_THRESHOLD = 0.94"
   ]
  },
  {
   "cell_type": "code",
   "execution_count": 252,
   "metadata": {},
   "outputs": [],
   "source": [
    "from sklearn.linear_model import LogisticRegression\n",
    "from sklearn.metrics import accuracy_score, f1_score, confusion_matrix\n",
    "import numpy as np\n",
    "import pandas as pd\n",
    "from collections import Counter \n",
    "from sklearn.utils import class_weight"
   ]
  },
  {
   "cell_type": "code",
   "execution_count": 253,
   "metadata": {},
   "outputs": [],
   "source": [
    "training_data = pd.read_csv('data/aol/user-ct-test-collection-05.txt', sep=\"\\t\")\n",
    "training_queries = training_data.Query.dropna()\n",
    "training_tokens_freq = Counter(training_queries)\n",
    "\n",
    "testing_data = pd.read_csv('data/aol/user-ct-test-collection-04.txt', sep=\"\\t\")\n",
    "testing_queries = training_data.Query.dropna()\n",
    "testing_tokens_freq = Counter(training_queries)"
   ]
  },
  {
   "cell_type": "code",
   "execution_count": 254,
   "metadata": {},
   "outputs": [],
   "source": [
    "# Function to extract features\n",
    "def extract_features(token):\n",
    "    length = len(token)\n",
    "    digits = sum(c.isdigit() for c in token)\n",
    "    upper = sum(c.isupper() for c in token)\n",
    "    lower = sum(c.islower() for c in token)\n",
    "    special = sum(not c.isalnum() for c in token)\n",
    "    entropy = -sum((token.count(c)/len(token)) * np.log2(token.count(c)/len(token)) for c in set(token))\n",
    "    return [length, digits, upper, lower, special, entropy]"
   ]
  },
  {
   "cell_type": "code",
   "execution_count": 255,
   "metadata": {},
   "outputs": [
    {
     "name": "stdout",
     "output_type": "stream",
     "text": [
      "Accuracy: 0.9991651328559645\n",
      "F1 Score: 0.03571428571428571\n",
      "Confusion Matrix: [[1292519     541]\n",
      " [    539      20]]\n"
     ]
    }
   ],
   "source": [
    "# Prepare the dataset\n",
    "X_train = np.array([extract_features(token) for token, _ in training_tokens_freq.items()])\n",
    "y_train = np.array([1 if freq >= 200 else 0 for _, freq in training_tokens_freq.items()])\n",
    "X_test = np.array([extract_features(token) for token, _ in testing_tokens_freq.items()])\n",
    "y_test = np.array([1 if freq >= 200 else 0 for _, freq in testing_tokens_freq.items()])\n",
    "\n",
    "class_weights = class_weight.compute_class_weight('balanced', classes=np.unique(y_train), y=y_train)\n",
    "class_weights_dict = {i : class_weights[i] for i in range(len(class_weights))}\n",
    "\n",
    "# Train the model\n",
    "model = LogisticRegression(class_weight=class_weights_dict)\n",
    "model.fit(X_train, y_train)\n",
    "\n",
    "# Evaluate the model\n",
    "predictions = (model.predict_proba(X_test)[:, 1] >= DECISION_THRESHOLD).astype(int)\n",
    "print(\"Accuracy:\", accuracy_score(y_test, predictions))\n",
    "print(\"F1 Score:\", f1_score(y_test, predictions))\n",
    "print(\"Confusion Matrix:\", confusion_matrix(y_test, predictions))"
   ]
  },
  {
   "cell_type": "code",
   "execution_count": 256,
   "metadata": {},
   "outputs": [],
   "source": [
    "import pickle\n",
    "\n",
    "# Save model\n",
    "filename = 'models/logistic_regression.sav'\n",
    "pickle.dump(model, open(filename, 'wb'))"
   ]
  },
  {
   "cell_type": "markdown",
   "metadata": {},
   "source": [
    "### Augmenting With CM Sketch"
   ]
  },
  {
   "cell_type": "code",
   "execution_count": 257,
   "metadata": {},
   "outputs": [],
   "source": [
    "import pickle\n",
    "import numpy as np\n",
    "\n",
    "class LogisticRegressionOracle(Oracle):\n",
    "\n",
    "    def __init__(self, model):\n",
    "        self.model = model\n",
    "    \n",
    "    def predict_heavy_hitter(self, token: str):\n",
    "        features = np.array([extract_features(token)])\n",
    "        prediction = (self.model.predict_proba(features)[:, 1] >= DECISION_THRESHOLD).astype(int)\n",
    "        return prediction[0]\n",
    "    \n",
    "    def get_memory_usage(self):\n",
    "        return sys.getsizeof(pickle.dumps(self.model))\n",
    "\n",
    "lr_model = pickle.load(open('models/logistic_regression.sav', 'rb'))\n",
    "lr_oracle = LogisticRegressionOracle(lr_model)\n",
    "    \n",
    "lr_sketches = [CountMinSketchWithOracle(D, 2 ** R, lr_oracle) for R in range(13, 17)]"
   ]
  },
  {
   "cell_type": "code",
   "execution_count": 258,
   "metadata": {},
   "outputs": [],
   "source": [
    "for query in queries:\n",
    "    for sketch in lr_sketches:\n",
    "        sketch.insert(query)"
   ]
  },
  {
   "cell_type": "code",
   "execution_count": 259,
   "metadata": {},
   "outputs": [],
   "source": [
    "from statistics import mean, median\n",
    "\n",
    "def get_error_statistics(sketch, token_counts):\n",
    "    errors = []\n",
    "    for token, actual_count in token_counts:\n",
    "        estimated_count = sketch.query(token)\n",
    "        errors.append(abs(estimated_count - actual_count))\n",
    "    return mean(errors), median(errors)"
   ]
  },
  {
   "cell_type": "code",
   "execution_count": 260,
   "metadata": {},
   "outputs": [],
   "source": [
    "# print(\"Min Sketch\")\n",
    "# errors = get_error_statistics(sketch, tokens_freq.items())\n",
    "# print(\"Mean error:\", errors[0])\n",
    "# print(\"Median error:\", errors[1])\n",
    "# print(\"Memory usage:\", str(sketch.get_memory_usage() / (10 ** 6)), \"MB\")\n",
    "# print()\n",
    "\n",
    "# print(\"Min Sketch With Perfect Oracle\")\n",
    "# errors = get_error_statistics(sketch_with_oracle, tokens_freq.items())\n",
    "# print(\"Mean error:\", errors[0])\n",
    "# print(\"Median error:\", errors[1])\n",
    "# print(\"Memory usage:\", str(sketch_with_oracle.get_memory_usage() / (10 ** 6)), \"MB\")"
   ]
  },
  {
   "cell_type": "code",
   "execution_count": 261,
   "metadata": {},
   "outputs": [],
   "source": [
    "# import matplotlib.pyplot as plt\n",
    "\n",
    "# def plot_errors(sketch, sketch_with_oracle, token_counts, title=\"\"):\n",
    "\n",
    "#   min_sketch_errors = []\n",
    "#   sketch_with_oracle_errors = []\n",
    "\n",
    "#   for token, actual_count in token_counts:\n",
    "#     estimated_count = sketch.query(token)\n",
    "#     min_sketch_errors.append(abs(estimated_count - actual_count)/actual_count)\n",
    "\n",
    "#     estimated_count = sketch_with_oracle.query(token)\n",
    "#     sketch_with_oracle_errors.append(abs(estimated_count - actual_count)/actual_count)\n",
    "\n",
    "#   plt.plot(min_sketch_errors, label = \"Count Min Sketch\")\n",
    "#   plt.plot(sketch_with_oracle_errors, label = \"Count Min Sketch With Oracle\")\n",
    "#   plt.xlabel(\"Token\")\n",
    "#   plt.ylabel(\"Error\")\n",
    "#   plt.title(title)\n",
    "#   plt.legend()\n",
    "#   plt.show()"
   ]
  },
  {
   "cell_type": "code",
   "execution_count": 262,
   "metadata": {},
   "outputs": [],
   "source": [
    "# plot_errors(sketch, sketch_with_oracle, freq_tokens, \"Error For Most Frequent Words\")\n",
    "# plot_errors(sketch, sketch_with_oracle, infreq_tokens, \"Error For Most Infrequent Words\")\n",
    "# plot_errors(sketch, sketch_with_oracle, random_tokens, \"Error For Random Words\")"
   ]
  },
  {
   "cell_type": "code",
   "execution_count": 263,
   "metadata": {},
   "outputs": [],
   "source": [
    "def calculate_error_vs_memory(sketches, sketches_with_oracle, lr_sketches, token_counts, title=\"\"):\n",
    "\n",
    "  min_sketch_errors = []\n",
    "  min_sketch_memory = []\n",
    "  sketch_with_oracle_errors = []\n",
    "  sketch_with_oracle_memory = []\n",
    "  lr_sketch_errors = []\n",
    "  lr_sketch_memory = []\n",
    "\n",
    "  for sketch in sketches:\n",
    "    min_sketch_errors.append(get_error_statistics(sketch, token_counts)[0])\n",
    "    min_sketch_memory.append(sketch.get_memory_usage())\n",
    "\n",
    "  for sketch in sketches_with_oracle:\n",
    "    sketch_with_oracle_errors.append(get_error_statistics(sketch, token_counts)[0])\n",
    "    sketch_with_oracle_memory.append(sketch.get_memory_usage())\n",
    "\n",
    "  for sketch in lr_sketches:\n",
    "    lr_sketch_errors.append(get_error_statistics(sketch, token_counts)[0])\n",
    "    lr_sketch_memory.append(sketch.get_memory_usage())\n",
    "\n",
    "  return min_sketch_errors, min_sketch_memory, sketch_with_oracle_errors, sketch_with_oracle_memory, lr_sketch_errors, lr_sketch_memory"
   ]
  },
  {
   "cell_type": "code",
   "execution_count": 264,
   "metadata": {},
   "outputs": [],
   "source": [
    "min_sketch_errors, min_sketch_memory, sketch_with_oracle_errors, sketch_with_oracle_memory, lr_sketch_errors, lr_sketch_memory = calculate_error_vs_memory(sketches, sketches_with_oracles, lr_sketches, common_tokens)"
   ]
  },
  {
   "cell_type": "code",
   "execution_count": 265,
   "metadata": {},
   "outputs": [
    {
     "name": "stdout",
     "output_type": "stream",
     "text": [
      "[310.075, 144.442, 65.006, 27.67]\n",
      "[262416, 524560, 1048848, 2097424]\n",
      "[146.828, 68.592, 31.038, 13.212]\n",
      "[280944, 543088, 1067376, 2115952]\n",
      "[300.254, 139.851, 62.92, 26.728]\n",
      "[281823, 543967, 1068255, 2116831]\n"
     ]
    }
   ],
   "source": [
    "print(min_sketch_errors)\n",
    "print(min_sketch_memory)\n",
    "print(sketch_with_oracle_errors)\n",
    "print(sketch_with_oracle_memory)\n",
    "print(lr_sketch_errors)\n",
    "print(lr_sketch_memory)"
   ]
  },
  {
   "cell_type": "code",
   "execution_count": 270,
   "metadata": {},
   "outputs": [
    {
     "data": {
      "image/png": "[encoded data removed]",
      "text/plain": [
       "<Figure size 640x480 with 1 Axes>"
      ]
     },
     "metadata": {},
     "output_type": "display_data"
    }
   ],
   "source": [
    "import matplotlib.pyplot as plt\n",
    "\n",
    "plt.xscale(\"log\")\n",
    "plt.plot(min_sketch_memory, min_sketch_errors, label = \"CM Sketch\")\n",
    "plt.plot(sketch_with_oracle_memory, sketch_with_oracle_errors, label = \"CM Sketch With Ideal Oracle\")\n",
    "plt.plot(lr_sketch_memory, lr_sketch_errors, label = \"CM Sketch With LR Oracle\")\n",
    "plt.xlabel(\"Memory(bytes)\")\n",
    "plt.ylabel(\"Average Error Per Item (Frequency)\")\n",
    "plt.legend()\n",
    "plt.show()"
   ]
  }
 ],
 "metadata": {
  "kernelspec": {
   "display_name": "Python 3",
   "language": "python",
   "name": "python3"
  },
  "language_info": {
   "codemirror_mode": {
    "name": "ipython",
    "version": 3
   },
   "file_extension": ".py",
   "mimetype": "text/x-python",
   "name": "python",
   "nbconvert_exporter": "python",
   "pygments_lexer": "ipython3",
   "version": "3.9.6"
  }
 },
 "nbformat": 4,
 "nbformat_minor": 2
}
