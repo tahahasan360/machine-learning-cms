{
 "cells": [
  {
   "cell_type": "code",
   "execution_count": 102,
   "metadata": {},
   "outputs": [],
   "source": [
    "from sklearn.utils import murmurhash3_32\n",
    "import random\n",
    "import sys\n",
    "\n",
    "random.seed(13)\n",
    "\n",
    "def h(x, seed, R):\n",
    "    return murmurhash3_32(key=x, seed=seed) % R\n",
    "\n",
    "class CountMinSketch:\n",
    "  def __init__(self, d: int, R: int):\n",
    "    self.d = d\n",
    "    self.R = R\n",
    "    self.array = []\n",
    "\n",
    "    for _i in range(d):\n",
    "      self.array.append([0] * R)\n",
    "\n",
    "  def insert(self, token: str):\n",
    "    for i in range(self.d):\n",
    "      hash = h(token, i, self.R)\n",
    "      self.array[i][hash] += 1\n",
    "\n",
    "  def query(self, token: str):\n",
    "    res = []\n",
    "    for i in range(self.d):\n",
    "      hash = h(token, i, self.R)\n",
    "      res.append(self.array[i][hash])\n",
    "    return min(res)\n",
    "  \n",
    "  def get_memory_usage(self):\n",
    "    memory = sys.getsizeof(self)\n",
    "    for subarray in self.array:\n",
    "      memory += sys.getsizeof(subarray)\n",
    "    return memory"
   ]
  },
  {
   "cell_type": "code",
   "execution_count": 103,
   "metadata": {},
   "outputs": [],
   "source": [
    "from collections import defaultdict\n",
    "\n",
    "class CountMinSketchWithOracle(CountMinSketch):\n",
    "  def __init__(self, d: int, R: int, oracle: callable):\n",
    "    super().__init__(d, R)\n",
    "    self.oracle = oracle\n",
    "    self.heavy_hitter_counts = defaultdict(int)\n",
    "  def insert(self, token: str):\n",
    "    if token in self.heavy_hitter_counts or self.oracle(token) == 1:\n",
    "      self.heavy_hitter_counts[token] += 1\n",
    "      # print(self.heavy_hitter_counts)\n",
    "    else:\n",
    "      super().insert(token)\n",
    "  def query(self, token: str):\n",
    "    if token in self.heavy_hitter_counts:\n",
    "      # print(self.heavy_hitter_counts)\n",
    "      return self.heavy_hitter_counts[token]\n",
    "    else:\n",
    "      return super().query(token)\n",
    "  def get_memory_usage(self):\n",
    "    return super().get_memory_usage() + sys.getsizeof(self.oracle) + sys.getsizeof(self.heavy_hitter_counts)"
   ]
  },
  {
   "cell_type": "code",
   "execution_count": 104,
   "metadata": {},
   "outputs": [],
   "source": [
    "# sketch = CountMinSketch(10, 2 ** 20)\n",
    "# sketch.insert(\"Taha\")\n",
    "# sketch.insert(\"Hi\")\n",
    "# sketch.insert(\"Taha\")\n",
    "# print(sketch.query(\"Taha\"))\n",
    "# print(sketch.query(\"Hi\"))\n",
    "# print(sketch.query(\"Teet\"))"
   ]
  },
  {
   "cell_type": "code",
   "execution_count": 105,
   "metadata": {},
   "outputs": [],
   "source": [
    "# oracle_sketch = CountMinSketchWithOracle(5, 2 ** 16, lambda x: 1 if x == \"Taha\" else 0)\n",
    "# oracle_sketch.insert(\"Taha\")\n",
    "# oracle_sketch.insert(\"hi\")\n",
    "# oracle_sketch.insert(\"Taha\")\n",
    "# print(oracle_sketch.query(\"Taha\"))\n",
    "# print(oracle_sketch.query(\"hi\"))\n",
    "# print(oracle_sketch.query(\"hsi\"))"
   ]
  },
  {
   "cell_type": "code",
   "execution_count": 106,
   "metadata": {},
   "outputs": [],
   "source": [
    "import pandas as pd\n",
    "\n",
    "queries = []\n",
    "for i in range(1, 2):\n",
    "    data = pd.read_csv('data/aol/user-ct-test-collection-0' + str(i) + '.txt', sep=\"\\t\")\n",
    "    queries.extend(data.Query.dropna())"
   ]
  },
  {
   "cell_type": "code",
   "execution_count": 107,
   "metadata": {},
   "outputs": [],
   "source": [
    "from collections import Counter \n",
    "\n",
    "tokens_freq = Counter(queries)"
   ]
  },
  {
   "cell_type": "code",
   "execution_count": 108,
   "metadata": {},
   "outputs": [
    {
     "name": "stdout",
     "output_type": "stream",
     "text": [
      "1216652\n"
     ]
    }
   ],
   "source": [
    "print(len(tokens_freq))"
   ]
  },
  {
   "cell_type": "code",
   "execution_count": 377,
   "metadata": {},
   "outputs": [
    {
     "name": "stdout",
     "output_type": "stream",
     "text": [
      "[('-', 98991), ('google', 32163), ('yahoo', 13646), ('ebay', 13075), ('yahoo.com', 8743), ('mapquest', 8719), ('myspace.com', 8587), ('google.com', 7985), ('myspace', 6877), ('www.yahoo.com', 4240), ('internet', 4207), ('www.google.com', 3981), ('www.myspace.com', 3034), ('my space', 3008), ('ebay.com', 2978), ('map quest', 2899), ('http', 2840), ('weather', 2676), ('pogo', 2307), ('american idol', 2279), ('craigslist', 2232), ('dictionary', 2205), ('msn.com', 2140), ('hotmail', 2093), ('bank of america', 2069), ('msn', 2045), ('hotmail.com', 1939), ('yahoo mail', 1890), ('ask jeeves', 1810), ('bankofamerica', 1743), ('pokemon', 1720), ('mycl.cravelyrics.com', 1675), ('my space.com', 1629), ('ask.com', 1591), ('walmart', 1517), ('mapquest.com', 1486), ('tattoo', 1397), ('horoscopes', 1272), ('southwest airlines', 1259), ('.com', 1258), ('maps', 1214), ('myspace layouts', 1188), ('www.google', 1131), ('target', 1076), ('white pages', 1075), ('home depot', 1068), ('sex', 1058), ('porn', 1036), ('amazon.com', 1002), ('mailbox', 999), ('n y s e evergreen solar', 991), ('lyrics', 989), ('www.ebay.com', 962), ('yellow pages', 938), ('irs', 921), ('m', 919), ('travelocity', 884), ('goggle', 863), ('orbitz', 851), ('pogo.com', 839), ('sexy swimwear', 837), ('qvc', 826), ('lowes', 808), ('yahoo personals', 808), ('fidelity.com', 804), ('match.com', 798), ('yahoo email', 794), ('www.', 781), ('sears', 762), ('com', 727), ('horoscope', 723), ('profileedit.myspace.com', 722), ('im help', 715), ('my', 714), ('www.hotmail.com', 707), ('american airlines', 700), ('adserver.ign.com', 698), ('cingular', 694), ('verizon', 689), ('best buy', 685), ('expedia', 685), ('craigs list', 675), ('games', 673), ('wachovia', 669), ('amazon', 667), ('www', 661), ('webmd', 659), ('runescape', 659), ('realtor.com', 652), ('ticketmaster', 646), ('tattoos', 646), ('www.myspace', 629), ('yahoo games', 625), ('limewire', 614), ('slingo', 609), ('monster.com', 592), ('sins of midnight kimberly logan', 588), ('kelly blue book', 585), ('www.mapquest.com', 582), ('om', 577), ('ww.myspace.com', 574), ('donnie mcclurkin', 573), ('cnn', 571), ('g', 567), ('weather.com', 561), ('clive owen', 561), ('www google.com', 554), ('driving directions', 553), ('donbest', 547), ('recent', 542), ('e-bay', 539), ('cartoon network', 535), ('people search', 534), ('jobs', 530), ('walmart.com', 526), ('florida lottery', 519), ('deal or no deal', 517), ('evo.qksrv.net', 512), ('free porn', 510), ('playboy', 509), ('www.bankofamerica.com', 508), ('free bingo', 502), ('nick.com', 501), ('ask', 500), ('wells fargo', 498), ('adam4adam', 497), ('mys', 496), ('disney channel', 495), ('circuit city', 495), ('y', 493), ('usps', 492), ('expedia.com', 492), ('netflix', 486), ('yahoomail', 486), ('www.msn.com', 486), ('united airlines', 485), ('jokes', 477), ('www yahoo.com', 477), ('hsn', 475), ('bed bath and beyond', 475), ('directions', 474), ('amex bema gold', 473), ('espn', 466), ('kimberly logan', 461), ('disney channel.com', 459), ('askjeeves', 458), ('www.pogo.com', 457), ('https', 454), ('3dicon', 453), ('dogpile', 452), ('mail.myspace.com', 450), ('bankofamerica.com', 442), ('prom dresses', 438), ('hilary duff', 437), ('nascar', 434), ('paypal', 434), ('new york times', 425), ('jet blue', 425), ('xnxx', 424), ('delta airlines', 422), ('fafsa', 421), ('e', 420), ('gold', 420), ('amex bgo', 418), ('disneychannel.com', 417), ('nyse hl', 417), ('ups', 413), ('web md', 409), ('nyse wit', 409), ('sales reps for china products', 404), ('map', 403), ('my yahoo', 402), ('target.com', 399), ('free music downloads', 398), ('britney spears', 396), ('miami heat', 394), ('blackplanet', 389), ('pussy', 388), ('.comhttp', 387), ('gmail', 387), ('dell', 387), ('irs.gov', 386), ('donnie mcclurkin cd', 386), ('nyse eslr', 385), ('lottery', 382), ('american express', 382), ('netzero', 379), ('dogs', 378), ('xxx', 377), ('wikipedia', 376), ('www.ask.com', 375), ('goo', 373), ('eharmony', 371), ('billing', 369), ('costco', 367), ('lindsay lohan', 366), ('nude girls', 364), ('powerball', 364), ('thehun', 364), ('southwest.com', 363), ('continental airlines', 363), ('bridge', 363), ('capital one', 362), ('airlines', 362), ('http;', 361), ('disney', 361), ('baby names', 360), ('zip codes', 359), ('screen names', 357), ('www myspace.com', 355), ('wwe', 354), ('h', 354), ('southwest', 353), ('hotels', 352), ('craigslist.com', 350), ('espn.com', 350), ('music', 349), ('poems', 349), ('2006 mock nfl draft', 349), ('food network', 347), ('paris hilton', 346), ('89.com', 346), ('www.irs.gov', 345), ('mysp', 345), ('recipes', 345), ('sprint', 344), ('ampland', 343), ('www.disneychannel.com', 342), ('a', 341), ('song lyrics', 340), ('movies', 340), ('craiglist.org', 340), ('videos', 338), ('verizon.com', 337), ('qvc.com', 337), ('aol.com', 335), ('google earth', 335), ('national city bank', 335), ('free games', 334), ('backofthenet', 332), ('verizon wireless', 329), ('rawfoodtalk', 329), ('blackplanet.com', 328), ('eharmony.com', 327), ('jetblue', 324), ('www.disney channel.com', 323), ('itunes', 322), ('google search', 322), ('barnes and noble', 320), ('s', 319), ('yahoo finance', 318), ('n y s e wipro', 318), ('yahoo sports', 317), ('www.nick.com', 315), ('mysapce.com', 314), ('e bay', 313), ('www.mysapce.com', 313), ('orbitz.com', 312), ('myspace graphics', 312), ('www.capitalone.com', 312), ('nascar.com', 311), ('c', 310), ('naruto', 310), ('hotels.com', 309), ('www.cartoonetwork.com', 309), ('overstock.com', 309), ('google com', 309), ('babies r us', 308), ('yahoo maps', 307), ('pink world', 307), ('ask jeeves.com', 306), ('swimwear', 306), ('sudoku', 303), ('chris brown', 302), ('w', 301), ('cingular.com', 301), ('poppit', 301), ('aa.com', 300), ('ikea', 300), ('homedepot', 300), ('blackpeoplemeet', 299), ('toyota', 297), ('wwww.myspace.com', 297), ('b.bluetime.com', 297), ('myspace com', 296), ('amtrak', 296), ('www.uproar.com', 296), ('northwest airlines', 295), ('free samples', 295), ('www.espn.com', 295), ('sesame street', 294), ('hairstyles', 293), ('porn.com', 293), ('tattoo designs', 291), ('coins', 291), ('myspa', 290), ('autotrader.com', 290), ('eva longoria', 290), ('etrade', 289), ('travelocity.com', 289), ('cheap tickets', 289), ('raven riley', 289), ('addicting games.com', 289), ('pa lottery', 289), ('sears.com', 286), ('kmart', 286), ('airline tickets', 283), ('used cars', 283), ('candylist', 282), ('power rangers s.p.d.', 282), ('wamu.com', 281), ('greeting cards', 281), ('facebook', 281), ('wellsfargo', 281), ('usbank', 281), ('staples', 280), ('cheat codes', 280), ('jokers wild poker', 279), ('theunorthodoxjew.blogspot.com', 279), ('tommysbookmarks', 279), ('chase.com', 277), ('www.letstalkhonestly.com', 277), ('b', 275), ('whitney houston', 275), ('webmaste.drunkenmature.net', 275), ('daniel.pipes.com', 275), ('www.mapquest', 274), ('lingerie', 274), ('love poems', 274), ('flowers', 273), ('cnn.com', 273), ('zillow.com', 273), ('furniture', 273), ('jimfeist', 273), ('mime', 272), ('aim.com', 272), ('delta', 271), ('tmobile', 271), ('goggle.com', 271), ('penis', 271), ('www.my space.com', 270), ('macys', 269), ('charter one', 269), ('free credit report', 268), ('kohls', 267), ('ebaymotors', 267), ('password', 267), ('family guy', 266), ('cartoonnetwork.com', 266), ('autotrader', 265), ('office depot', 264), ('rotten.com', 264), ('poker', 262), ('cartoonnetwork', 262), ('ebay com', 262), ('toys r us', 261), ('thumbzilla', 261), ('www myspace com', 261), ('sperm shack', 261), ('nextel', 260), ('mega millions', 260), ('jcpenney', 259), ('sams club', 258), ('ny lottery', 258), ('wallpaper', 257), ('msnbc', 257), ('bestcounter.biz', 257), ('ads.admonitor.net', 256), ('social security', 255), ('wachovia.com', 255), ('remax', 254), ('dmv', 254), ('photobucket', 254), ('www.cartoonnetwork.com', 254), ('lavalife', 254), ('lotto', 253), ('hair styles', 253), ('clip art', 252), ('disney.com', 252), ('member rewards', 251), ('photobucket.com', 250), ('free ringtones', 249), ('singlesnet', 249), ('rihanna', 247), ('calculator', 246), ('beyonce', 246), ('us airways', 243), ('hsn.com', 243), ('jessica simpson', 243), ('karl der grosse', 243), ('area codes', 241), ('old navy', 241), ('chat', 241), ('nordstrom', 241), ('ringtones', 240), ('mhttp', 240), ('yahoomail.com', 240), ('cars', 240), ('tv guide', 240), ('newsgroups', 240), ('nylottery', 240), ('holiday inn', 239), ('madonna', 239), ('chris daughtry', 238), ('ethiopia', 238), ('airtran', 237), ('camel toe', 237), ('naked girls', 236), ('angelina jolie', 235), ('commerce bank', 235), ('priceline.com', 235), ('www.yahoo', 235), ('nfl.com', 235), ('comcast', 234), ('p', 234), ('unclaimed.org', 234), ('www.wachovia.com', 234), ('nbc.com', 233), ('www.askjeeves.com', 233), ('ttp', 233), ('www.mlol.ml.com', 233), ('emmy rossum', 233), ('speedos', 232), ('comhttp', 232), ('ecards', 232), ('wwe.com', 232), ('good charlotte', 232), ('yahoosports', 231), ('aol', 230), ('bangbros', 230), ('www.walmart.com', 229), ('passion.com', 229), ('las vegas', 229), ('history', 229), ('names', 229), ('googles', 229), ('delta.com', 228), ('easter', 227), ('sports', 226), ('hgtv', 225), ('nylottery.org', 225), ('sex stories', 225), ('people magazine', 225), ('pogogames', 225), ('aaa', 224), ('translator', 224), ('freeones', 224), ('bestbuy', 224), ('ford', 223), ('yahoo messenger', 223), ('limewire.com', 223), ('gl ch. 249 4. section 14. relation to the wetlands protection act', 223), ('weber vst', 223), ('facebook.com', 222), ('disneychannel', 222), ('dillards', 221), ('incest', 221), ('shakira', 220), ('undefined', 220), ('literotica', 220), ('sbcglobal.net', 218), ('ticketmaster.com', 218), ('foodnetwork.com', 218), ('screen name', 217), ('yahoo com', 217), ('travel', 217), ('schwab', 217), ('honda', 216), ('washington mutual', 216), ('internal revenue service', 216), ('askjeeves.com', 216), ('california lottery', 215), ('aol games', 215), ('nba', 215), ('pogo games', 214), ('jetblue.com', 214), ('www.my', 214), ('imdb', 214), ('fidelity', 214), ('casey gagan', 214), ('priceline', 213), ('craiglist', 213), ('www.http', 213), ('dell.com', 213), ('myspace.cm', 212), ('go', 212), ('htt', 211), ('buddy list', 209), ('ashanti', 209), ('wellsfargo.com', 208), ('pregnancy', 208), ('ups.com', 208), ('tiffany fallon', 208), ('sheer swimwear', 208), ('www.ebay', 206), ('chase', 205), ('screensavers', 204), ('millsberry.com', 204), ('fedex', 204), ('radio veracruz', 204), ('webunlock', 203), ('gamesloth', 203), ('millsberry', 203), ('www.bet.com', 203), ('thumbs', 203), ('nude', 202), ('sexy', 202), ('high school musical', 202), ('marilyn monroe', 202), ('animal sex', 202), ('microsoft', 201), ('calendar', 201), ('wwww.google.com', 201), ('florida lotto', 201), ('omhttp', 201), ('iwon', 201), ('vzwpix.com', 201), ('myspace.co', 200), ('weather channel', 200), ('n', 200), ('taylor hicks', 200), ('oprah', 200), ('adultfriendfinder', 199), ('www.sex.com', 199), ('ciara', 199), ('www.wellsfargo.com', 199), ('free music', 198), ('foodnetwork', 198), ('citibank', 197), ('sprint.com', 196), ('jcpenny', 196), ('harley davidson', 196), ('slave4master', 196), ('beastiality', 195), ('ads.specificpop.com', 195), ('leisure suit larry', 195), ('american idol.com', 194), ('www.weather.com', 194), ('pinkworld', 194), ('absolute shemale', 194), ('cheaptickets.com', 193), ('www.fafsa.gov', 193), ('kelly clarkson', 193), ('newyorklottery', 193), ('ameritrade.com', 193), ('sex positions', 192), ('new york lottery', 192), ('renee elise goldsberry', 192), ('myspace icons', 191), ('milf', 191), ('used chain saws on ebay', 191), ('usps.com', 190), ('lightspeedgirls', 190), ('car rentals', 190), ('amtrack', 190), ('.', 189), ('wal mart', 189), ('internet explorer', 189), ('nextel.com', 189), ('www.disney.com', 189), ('compuserve.com', 189), ('blockbuster', 188), ('userscounter.com', 188), ('java', 188), ('aol mail', 188), ('google.co', 187), ('disney world', 187), ('walgreens', 187), ('iframe.adultfriendfinder.com', 187), ('toolbar', 187), ('squirt', 187), ('homes for sale in julian ca 92036', 187), ('enable fast start', 187), ('lebanese', 187), ('verizonwireless.com', 186), ('free greeting cards', 185), ('shoes', 185), ('sunherald.com', 185), ('cruises', 184), ('sexy girls', 184), ('toysrus', 183), ('southwestairlines', 183), ('fox news', 183), ('preferences', 183), ('njlottery', 183), ('livejournal', 183), ('harry potter', 182), ('jennifer love hewitt', 182), ('pnc bank', 182), ('search engines', 181), ('nfl mock draft', 181), ('nick', 180), ('books', 180), ('nada', 180), ('ups tracking', 180), ('google maps', 180), ('uproar.com', 180), ('fall out boy', 179), ('americanidol.com', 179), ('my space .com', 179)]\n"
     ]
    }
   ],
   "source": [
    "print(tokens_freq.most_common(600))"
   ]
  },
  {
   "cell_type": "code",
   "execution_count": 110,
   "metadata": {},
   "outputs": [
    {
     "name": "stderr",
     "output_type": "stream",
     "text": [
      "/var/folders/4n/ghvzsdpj5nq5mtt0z1brxsm00000gn/T/ipykernel_91948/737723934.py:3: DeprecationWarning: Sampling from a set deprecated\n",
      "since Python 3.9 and will be removed in a subsequent version.\n",
      "  random_tokens = random.sample(tokens_freq.items(), 100)\n"
     ]
    }
   ],
   "source": [
    "freq_tokens = tokens_freq.most_common(100)\n",
    "infreq_tokens = tokens_freq.most_common()[:-101:-1]\n",
    "random_tokens = random.sample(tokens_freq.items(), 100)"
   ]
  },
  {
   "cell_type": "code",
   "execution_count": 196,
   "metadata": {},
   "outputs": [],
   "source": [
    "common_tokens = tokens_freq.most_common(1000)"
   ]
  },
  {
   "cell_type": "code",
   "execution_count": 412,
   "metadata": {},
   "outputs": [],
   "source": [
    "D = 4"
   ]
  },
  {
   "cell_type": "code",
   "execution_count": 413,
   "metadata": {},
   "outputs": [],
   "source": [
    "# sketch = CountMinSketch(D, R)"
   ]
  },
  {
   "cell_type": "code",
   "execution_count": 438,
   "metadata": {},
   "outputs": [],
   "source": [
    "sketches = [CountMinSketch(D, 2 ** R) for R in range(13, 17)]"
   ]
  },
  {
   "cell_type": "code",
   "execution_count": 439,
   "metadata": {},
   "outputs": [],
   "source": [
    "for query in queries:\n",
    "    for sketch in sketches:\n",
    "        sketch.insert(query)"
   ]
  },
  {
   "cell_type": "code",
   "execution_count": 440,
   "metadata": {},
   "outputs": [],
   "source": [
    "def perfect_oracle(token):\n",
    "    if token in tokens_freq and tokens_freq[token] >= 200:\n",
    "        return 1\n",
    "    else: \n",
    "        return 0\n",
    "# sketch_with_oracle = CountMinSketchWithOracle(D, R, perfect_oracle)\n",
    "sketches_with_oracles = [CountMinSketchWithOracle(D, 2 ** R, perfect_oracle) for R in range(13, 17)]"
   ]
  },
  {
   "cell_type": "code",
   "execution_count": 441,
   "metadata": {},
   "outputs": [],
   "source": [
    "# for query in queries:\n",
    "#     sketch_with_oracle.insert(query)\n",
    "for query in queries:\n",
    "    for sketch in sketches_with_oracles:\n",
    "        sketch.insert(query)"
   ]
  },
  {
   "cell_type": "code",
   "execution_count": 442,
   "metadata": {},
   "outputs": [],
   "source": [
    "from statistics import mean, median\n",
    "\n",
    "def get_error_statistics(sketch, token_counts):\n",
    "    errors = []\n",
    "    for token, actual_count in token_counts:\n",
    "        estimated_count = sketch.query(token)\n",
    "        errors.append(abs(estimated_count - actual_count))\n",
    "    return mean(errors), median(errors)"
   ]
  },
  {
   "cell_type": "code",
   "execution_count": 443,
   "metadata": {},
   "outputs": [],
   "source": [
    "# print(\"Min Sketch\")\n",
    "# errors = get_error_statistics(sketch, tokens_freq.items())\n",
    "# print(\"Mean error:\", errors[0])\n",
    "# print(\"Median error:\", errors[1])\n",
    "# print(\"Memory usage:\", str(sketch.get_memory_usage() / (10 ** 6)), \"MB\")\n",
    "# print()\n",
    "\n",
    "# print(\"Min Sketch With Perfect Oracle\")\n",
    "# errors = get_error_statistics(sketch_with_oracle, tokens_freq.items())\n",
    "# print(\"Mean error:\", errors[0])\n",
    "# print(\"Median error:\", errors[1])\n",
    "# print(\"Memory usage:\", str(sketch_with_oracle.get_memory_usage() / (10 ** 6)), \"MB\")"
   ]
  },
  {
   "cell_type": "code",
   "execution_count": 444,
   "metadata": {},
   "outputs": [],
   "source": [
    "# import matplotlib.pyplot as plt\n",
    "\n",
    "# def plot_errors(sketch, sketch_with_oracle, token_counts, title=\"\"):\n",
    "\n",
    "#   min_sketch_errors = []\n",
    "#   sketch_with_oracle_errors = []\n",
    "\n",
    "#   for token, actual_count in token_counts:\n",
    "#     estimated_count = sketch.query(token)\n",
    "#     min_sketch_errors.append(abs(estimated_count - actual_count)/actual_count)\n",
    "\n",
    "#     estimated_count = sketch_with_oracle.query(token)\n",
    "#     sketch_with_oracle_errors.append(abs(estimated_count - actual_count)/actual_count)\n",
    "\n",
    "#   plt.plot(min_sketch_errors, label = \"Count Min Sketch\")\n",
    "#   plt.plot(sketch_with_oracle_errors, label = \"Count Min Sketch With Oracle\")\n",
    "#   plt.xlabel(\"Token\")\n",
    "#   plt.ylabel(\"Error\")\n",
    "#   plt.title(title)\n",
    "#   plt.legend()\n",
    "#   plt.show()"
   ]
  },
  {
   "cell_type": "code",
   "execution_count": 445,
   "metadata": {},
   "outputs": [],
   "source": [
    "# plot_errors(sketch, sketch_with_oracle, freq_tokens, \"Error For Most Frequent Words\")\n",
    "# plot_errors(sketch, sketch_with_oracle, infreq_tokens, \"Error For Most Infrequent Words\")\n",
    "# plot_errors(sketch, sketch_with_oracle, random_tokens, \"Error For Random Words\")"
   ]
  },
  {
   "cell_type": "code",
   "execution_count": 446,
   "metadata": {},
   "outputs": [],
   "source": [
    "def calculate_error_vs_memory(sketches, sketches_with_oracle, token_counts, title=\"\"):\n",
    "\n",
    "  min_sketch_errors = []\n",
    "  min_sketch_memory = []\n",
    "  sketch_with_oracle_errors = []\n",
    "  sketch_with_oracle_memory = []\n",
    "\n",
    "  for sketch in sketches:\n",
    "    min_sketch_errors.append(get_error_statistics(sketch, token_counts)[0])\n",
    "    min_sketch_memory.append(sketch.get_memory_usage())\n",
    "\n",
    "  for sketch in sketches_with_oracle:\n",
    "    sketch_with_oracle_errors.append(get_error_statistics(sketch, token_counts)[0])\n",
    "    sketch_with_oracle_memory.append(sketch.get_memory_usage())\n",
    "\n",
    "  return min_sketch_errors, min_sketch_memory, sketch_with_oracle_errors, sketch_with_oracle_memory"
   ]
  },
  {
   "cell_type": "code",
   "execution_count": 447,
   "metadata": {},
   "outputs": [],
   "source": [
    "min_sketch_errors, min_sketch_memory, sketch_with_oracle_errors, sketch_with_oracle_memory = calculate_error_vs_memory(sketches, sketches_with_oracles, common_tokens)"
   ]
  },
  {
   "cell_type": "code",
   "execution_count": 448,
   "metadata": {},
   "outputs": [
    {
     "name": "stdout",
     "output_type": "stream",
     "text": [
      "[310.075, 144.442, 65.006, 27.67]\n",
      "[262416, 524560, 1048848, 2097424]\n",
      "[146.828, 68.592, 31.038, 13.212]\n",
      "[281080, 543224, 1067512, 2116088]\n"
     ]
    }
   ],
   "source": [
    "print(min_sketch_errors)\n",
    "print(min_sketch_memory)\n",
    "print(sketch_with_oracle_errors)\n",
    "print(sketch_with_oracle_memory)"
   ]
  },
  {
   "cell_type": "code",
   "execution_count": 451,
   "metadata": {},
   "outputs": [
    {
     "data": {
      "image/png": "[encoded data removed]",
      "text/plain": [
       "<Figure size 640x480 with 1 Axes>"
      ]
     },
     "metadata": {},
     "output_type": "display_data"
    }
   ],
   "source": [
    "plt.xscale(\"log\")\n",
    "plt.plot(min_sketch_memory, min_sketch_errors, label = \"CM Sketch\")\n",
    "plt.plot(sketch_with_oracle_memory, sketch_with_oracle_errors, label = \"CM Sketch With Oracle\")\n",
    "plt.xlabel(\"Memory(bytes)\")\n",
    "plt.ylabel(\"Average Error Per Item (Frequency)\")\n",
    "plt.legend()\n",
    "plt.show()"
   ]
  }
 ],
 "metadata": {
  "kernelspec": {
   "display_name": "Python 3",
   "language": "python",
   "name": "python3"
  },
  "language_info": {
   "codemirror_mode": {
    "name": "ipython",
    "version": 3
   },
   "file_extension": ".py",
   "mimetype": "text/x-python",
   "name": "python",
   "nbconvert_exporter": "python",
   "pygments_lexer": "ipython3",
   "version": "3.9.6"
  }
 },
 "nbformat": 4,
 "nbformat_minor": 2
}
