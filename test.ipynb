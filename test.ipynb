{
 "cells": [
  {
   "cell_type": "code",
   "execution_count": 106,
   "metadata": {},
   "outputs": [],
   "source": [
    "from sklearn.utils import murmurhash3_32\n",
    "import random\n",
    "import sys\n",
    "\n",
    "random.seed(13)\n",
    "\n",
    "def h(x, seed, R):\n",
    "    return murmurhash3_32(key=x, seed=seed) % R\n",
    "\n",
    "class CountMinSketch:\n",
    "  def __init__(self, d: int, R: int):\n",
    "    self.d = d\n",
    "    self.R = R\n",
    "    self.array = []\n",
    "\n",
    "    for _i in range(d):\n",
    "      self.array.append([0] * R)\n",
    "\n",
    "  def insert(self, token: str):\n",
    "    for i in range(self.d):\n",
    "      hash = h(token, i, self.R)\n",
    "      self.array[i][hash] += 1\n",
    "\n",
    "  def query(self, token: str):\n",
    "    res = []\n",
    "    for i in range(self.d):\n",
    "      hash = h(token, i, self.R)\n",
    "      res.append(self.array[i][hash])\n",
    "    return min(res)\n",
    "  \n",
    "  def get_memory_usage(self):\n",
    "    memory = sys.getsizeof(self)\n",
    "    for subarray in self.array:\n",
    "      memory += sys.getsizeof(subarray)\n",
    "    return memory"
   ]
  },
  {
   "cell_type": "code",
   "execution_count": 325,
   "metadata": {},
   "outputs": [],
   "source": [
    "from collections import defaultdict\n",
    "from Oracle import Oracle\n",
    "\n",
    "class CountMinSketchWithOracle(CountMinSketch):\n",
    "\n",
    "  def __init__(self, d: int, R: int, oracle: Oracle):\n",
    "    super().__init__(d, R)\n",
    "    self.oracle = oracle\n",
    "    self.heavy_hitter_counts = defaultdict(int)\n",
    "\n",
    "  def insert(self, token: str):\n",
    "    if token in self.heavy_hitter_counts or self.oracle.predict_heavy_hitter(token) == 1:\n",
    "      self.heavy_hitter_counts[token] += 1\n",
    "    else:\n",
    "      super().insert(token)\n",
    "  \n",
    "  def fast_insert(self, tokens, is_heavy_hitter):\n",
    "    for i in range(len(tokens)):\n",
    "      if is_heavy_hitter[i] == 1:\n",
    "        self.heavy_hitter_counts[tokens[i]] += 1\n",
    "      else:\n",
    "        super().insert(tokens[i])\n",
    "\n",
    "  def query(self, token: str):\n",
    "    if token in self.heavy_hitter_counts:\n",
    "      # print(self.heavy_hitter_counts)\n",
    "      return self.heavy_hitter_counts[token]\n",
    "    else:\n",
    "      return super().query(token)\n",
    "    \n",
    "  def get_memory_usage(self):\n",
    "    return super().get_memory_usage() + sys.getsizeof(self.heavy_hitter_counts)"
   ]
  },
  {
   "cell_type": "code",
   "execution_count": 110,
   "metadata": {},
   "outputs": [],
   "source": [
    "import pandas as pd\n",
    "\n",
    "queries = []\n",
    "for i in range(1, 2):\n",
    "    data = pd.read_csv('data/aol/user-ct-test-collection-0' + str(i) + '.txt', sep=\"\\t\")\n",
    "    queries.extend(data.Query.dropna())"
   ]
  },
  {
   "cell_type": "code",
   "execution_count": 111,
   "metadata": {},
   "outputs": [],
   "source": [
    "from collections import Counter \n",
    "\n",
    "tokens_freq = Counter(queries)"
   ]
  },
  {
   "cell_type": "code",
   "execution_count": 112,
   "metadata": {},
   "outputs": [
    {
     "name": "stdout",
     "output_type": "stream",
     "text": [
      "1216652\n"
     ]
    }
   ],
   "source": [
    "print(len(tokens_freq))"
   ]
  },
  {
   "cell_type": "code",
   "execution_count": 114,
   "metadata": {},
   "outputs": [
    {
     "name": "stderr",
     "output_type": "stream",
     "text": [
      "/var/folders/4n/ghvzsdpj5nq5mtt0z1brxsm00000gn/T/ipykernel_79522/737723934.py:3: DeprecationWarning: Sampling from a set deprecated\n",
      "since Python 3.9 and will be removed in a subsequent version.\n",
      "  random_tokens = random.sample(tokens_freq.items(), 100)\n"
     ]
    }
   ],
   "source": [
    "freq_tokens = tokens_freq.most_common(100)\n",
    "infreq_tokens = tokens_freq.most_common()[:-101:-1]\n",
    "random_tokens = random.sample(tokens_freq.items(), 100)"
   ]
  },
  {
   "cell_type": "code",
   "execution_count": 115,
   "metadata": {},
   "outputs": [],
   "source": [
    "common_tokens = tokens_freq.most_common(1000)"
   ]
  },
  {
   "cell_type": "code",
   "execution_count": 116,
   "metadata": {},
   "outputs": [],
   "source": [
    "D = 4"
   ]
  },
  {
   "cell_type": "code",
   "execution_count": 118,
   "metadata": {},
   "outputs": [],
   "source": [
    "sketches = [CountMinSketch(D, 2 ** R) for R in range(13, 17)]"
   ]
  },
  {
   "cell_type": "code",
   "execution_count": 119,
   "metadata": {},
   "outputs": [],
   "source": [
    "for query in queries:\n",
    "    for sketch in sketches:\n",
    "        sketch.insert(query)"
   ]
  },
  {
   "cell_type": "markdown",
   "metadata": {},
   "source": [
    "## Ideal Oracle (For Benchmarking)"
   ]
  },
  {
   "cell_type": "code",
   "execution_count": 120,
   "metadata": {},
   "outputs": [],
   "source": [
    "class IdealOracle(Oracle): \n",
    "  \n",
    "    def predict_heavy_hitter(self, token): \n",
    "        if token in tokens_freq and tokens_freq[token] >= 200:\n",
    "            return 1\n",
    "        else: \n",
    "            return 0\n",
    "\n",
    "    def get_memory_usage(self): \n",
    "        return 0\n",
    "\n",
    "ideal_oracle = IdealOracle()\n",
    "sketches_with_oracles = [CountMinSketchWithOracle(D, 2 ** R, ideal_oracle) for R in range(13, 17)]"
   ]
  },
  {
   "cell_type": "code",
   "execution_count": 121,
   "metadata": {},
   "outputs": [],
   "source": [
    "for query in queries:\n",
    "    for sketch in sketches_with_oracles:\n",
    "        sketch.insert(query)"
   ]
  },
  {
   "cell_type": "markdown",
   "metadata": {},
   "source": [
    "## Logistic Regression"
   ]
  },
  {
   "cell_type": "markdown",
   "metadata": {},
   "source": [
    "### Training The Model"
   ]
  },
  {
   "cell_type": "code",
   "execution_count": 280,
   "metadata": {},
   "outputs": [],
   "source": [
    "DECISION_THRESHOLD = 0.97"
   ]
  },
  {
   "cell_type": "code",
   "execution_count": 272,
   "metadata": {},
   "outputs": [],
   "source": [
    "from sklearn.linear_model import LogisticRegression\n",
    "from sklearn.metrics import accuracy_score, f1_score, confusion_matrix\n",
    "import numpy as np\n",
    "import pandas as pd\n",
    "from collections import Counter \n",
    "from sklearn.utils import class_weight\n",
    "from sklearn.feature_extraction.text import TfidfVectorizer"
   ]
  },
  {
   "cell_type": "code",
   "execution_count": 253,
   "metadata": {},
   "outputs": [],
   "source": [
    "training_data = pd.read_csv('data/aol/user-ct-test-collection-05.txt', sep=\"\\t\")\n",
    "training_queries = training_data.Query.dropna()\n",
    "training_tokens_freq = Counter(training_queries)\n",
    "\n",
    "testing_data = pd.read_csv('data/aol/user-ct-test-collection-04.txt', sep=\"\\t\")\n",
    "testing_queries = training_data.Query.dropna()\n",
    "testing_tokens_freq = Counter(training_queries)"
   ]
  },
  {
   "cell_type": "code",
   "execution_count": 254,
   "metadata": {},
   "outputs": [],
   "source": [
    "# Function to extract features\n",
    "# def extract_features(token):\n",
    "#     length = len(token)\n",
    "#     digits = sum(c.isdigit() for c in token)\n",
    "#     upper = sum(c.isupper() for c in token)\n",
    "#     lower = sum(c.islower() for c in token)\n",
    "#     special = sum(not c.isalnum() for c in token)\n",
    "#     entropy = -sum((token.count(c)/len(token)) * np.log2(token.count(c)/len(token)) for c in set(token))\n",
    "#     return [length, digits, upper, lower, special, entropy]"
   ]
  },
  {
   "cell_type": "code",
   "execution_count": 276,
   "metadata": {},
   "outputs": [],
   "source": [
    "# Prepare the dataset\n",
    "X_train = list(training_tokens_freq.keys())\n",
    "y_train = [1 if freq >= 200 else 0 for freq in training_tokens_freq.values()]\n",
    "X_test = list(testing_tokens_freq.keys())\n",
    "y_test = [1 if freq >= 200 else 0 for freq in testing_tokens_freq.values()]"
   ]
  },
  {
   "cell_type": "code",
   "execution_count": 277,
   "metadata": {},
   "outputs": [],
   "source": [
    "vectorizer = TfidfVectorizer(analyzer='char', ngram_range=(2, 5))\n",
    "\n",
    "X_train_vectorized = vectorizer.fit_transform(X_train)\n",
    "X_test_vectorized = vectorizer.transform(X_test)"
   ]
  },
  {
   "cell_type": "code",
   "execution_count": 278,
   "metadata": {},
   "outputs": [
    {
     "name": "stderr",
     "output_type": "stream",
     "text": [
      "/Users/tahahasan/Library/Python/3.9/lib/python/site-packages/sklearn/linear_model/_logistic.py:460: ConvergenceWarning: lbfgs failed to converge (status=1):\n",
      "STOP: TOTAL NO. of ITERATIONS REACHED LIMIT.\n",
      "\n",
      "Increase the number of iterations (max_iter) or scale the data as shown in:\n",
      "    https://scikit-learn.org/stable/modules/preprocessing.html\n",
      "Please also refer to the documentation for alternative solver options:\n",
      "    https://scikit-learn.org/stable/modules/linear_model.html#logistic-regression\n",
      "  n_iter_i = _check_optimize_result(\n"
     ]
    },
    {
     "data": {
      "text/html": [
       "<style>#sk-container-id-1 {color: black;}#sk-container-id-1 pre{padding: 0;}#sk-container-id-1 div.sk-toggleable {background-color: white;}#sk-container-id-1 label.sk-toggleable__label {cursor: pointer;display: block;width: 100%;margin-bottom: 0;padding: 0.3em;box-sizing: border-box;text-align: center;}#sk-container-id-1 label.sk-toggleable__label-arrow:before {content: \"▸\";float: left;margin-right: 0.25em;color: #696969;}#sk-container-id-1 label.sk-toggleable__label-arrow:hover:before {color: black;}#sk-container-id-1 div.sk-estimator:hover label.sk-toggleable__label-arrow:before {color: black;}#sk-container-id-1 div.sk-toggleable__content {max-height: 0;max-width: 0;overflow: hidden;text-align: left;background-color: #f0f8ff;}#sk-container-id-1 div.sk-toggleable__content pre {margin: 0.2em;color: black;border-radius: 0.25em;background-color: #f0f8ff;}#sk-container-id-1 input.sk-toggleable__control:checked~div.sk-toggleable__content {max-height: 200px;max-width: 100%;overflow: auto;}#sk-container-id-1 input.sk-toggleable__control:checked~label.sk-toggleable__label-arrow:before {content: \"▾\";}#sk-container-id-1 div.sk-estimator input.sk-toggleable__control:checked~label.sk-toggleable__label {background-color: #d4ebff;}#sk-container-id-1 div.sk-label input.sk-toggleable__control:checked~label.sk-toggleable__label {background-color: #d4ebff;}#sk-container-id-1 input.sk-hidden--visually {border: 0;clip: rect(1px 1px 1px 1px);clip: rect(1px, 1px, 1px, 1px);height: 1px;margin: -1px;overflow: hidden;padding: 0;position: absolute;width: 1px;}#sk-container-id-1 div.sk-estimator {font-family: monospace;background-color: #f0f8ff;border: 1px dotted black;border-radius: 0.25em;box-sizing: border-box;margin-bottom: 0.5em;}#sk-container-id-1 div.sk-estimator:hover {background-color: #d4ebff;}#sk-container-id-1 div.sk-parallel-item::after {content: \"\";width: 100%;border-bottom: 1px solid gray;flex-grow: 1;}#sk-container-id-1 div.sk-label:hover label.sk-toggleable__label {background-color: #d4ebff;}#sk-container-id-1 div.sk-serial::before {content: \"\";position: absolute;border-left: 1px solid gray;box-sizing: border-box;top: 0;bottom: 0;left: 50%;z-index: 0;}#sk-container-id-1 div.sk-serial {display: flex;flex-direction: column;align-items: center;background-color: white;padding-right: 0.2em;padding-left: 0.2em;position: relative;}#sk-container-id-1 div.sk-item {position: relative;z-index: 1;}#sk-container-id-1 div.sk-parallel {display: flex;align-items: stretch;justify-content: center;background-color: white;position: relative;}#sk-container-id-1 div.sk-item::before, #sk-container-id-1 div.sk-parallel-item::before {content: \"\";position: absolute;border-left: 1px solid gray;box-sizing: border-box;top: 0;bottom: 0;left: 50%;z-index: -1;}#sk-container-id-1 div.sk-parallel-item {display: flex;flex-direction: column;z-index: 1;position: relative;background-color: white;}#sk-container-id-1 div.sk-parallel-item:first-child::after {align-self: flex-end;width: 50%;}#sk-container-id-1 div.sk-parallel-item:last-child::after {align-self: flex-start;width: 50%;}#sk-container-id-1 div.sk-parallel-item:only-child::after {width: 0;}#sk-container-id-1 div.sk-dashed-wrapped {border: 1px dashed gray;margin: 0 0.4em 0.5em 0.4em;box-sizing: border-box;padding-bottom: 0.4em;background-color: white;}#sk-container-id-1 div.sk-label label {font-family: monospace;font-weight: bold;display: inline-block;line-height: 1.2em;}#sk-container-id-1 div.sk-label-container {text-align: center;}#sk-container-id-1 div.sk-container {/* jupyter's `normalize.less` sets `[hidden] { display: none; }` but bootstrap.min.css set `[hidden] { display: none !important; }` so we also need the `!important` here to be able to override the default hidden behavior on the sphinx rendered scikit-learn.org. See: https://github.com/scikit-learn/scikit-learn/issues/21755 */display: inline-block !important;position: relative;}#sk-container-id-1 div.sk-text-repr-fallback {display: none;}</style><div id=\"sk-container-id-1\" class=\"sk-top-container\"><div class=\"sk-text-repr-fallback\"><pre>LogisticRegression(class_weight={0: 0.5002161539294387, 1: 1157.0831842576029})</pre><b>In a Jupyter environment, please rerun this cell to show the HTML representation or trust the notebook. <br />On GitHub, the HTML representation is unable to render, please try loading this page with nbviewer.org.</b></div><div class=\"sk-container\" hidden><div class=\"sk-item\"><div class=\"sk-estimator sk-toggleable\"><input class=\"sk-toggleable__control sk-hidden--visually\" id=\"sk-estimator-id-1\" type=\"checkbox\" checked><label for=\"sk-estimator-id-1\" class=\"sk-toggleable__label sk-toggleable__label-arrow\">LogisticRegression</label><div class=\"sk-toggleable__content\"><pre>LogisticRegression(class_weight={0: 0.5002161539294387, 1: 1157.0831842576029})</pre></div></div></div></div></div>"
      ],
      "text/plain": [
       "LogisticRegression(class_weight={0: 0.5002161539294387, 1: 1157.0831842576029})"
      ]
     },
     "execution_count": 278,
     "metadata": {},
     "output_type": "execute_result"
    }
   ],
   "source": [
    "class_weights = class_weight.compute_class_weight('balanced', classes=np.unique(y_train), y=y_train)\n",
    "class_weights_dict = {i : class_weights[i] for i in range(len(class_weights))}\n",
    "\n",
    "# Train the model\n",
    "model = LogisticRegression(class_weight=class_weights_dict)\n",
    "model.fit(X_train_vectorized, y_train)"
   ]
  },
  {
   "cell_type": "code",
   "execution_count": 281,
   "metadata": {},
   "outputs": [
    {
     "name": "stdout",
     "output_type": "stream",
     "text": [
      "Accuracy: 0.9995145402162461\n",
      "F1 Score: 0.6170731707317074\n",
      "Confusion Matrix: [[1292485     575]\n",
      " [     53     506]]\n"
     ]
    }
   ],
   "source": [
    "# Evaluate the model\n",
    "predictions = (model.predict_proba(X_test_vectorized)[:, 1] >= DECISION_THRESHOLD).astype(int)\n",
    "print(\"Accuracy:\", accuracy_score(y_test, predictions))\n",
    "print(\"F1 Score:\", f1_score(y_test, predictions))\n",
    "print(\"Confusion Matrix:\", confusion_matrix(y_test, predictions))"
   ]
  },
  {
   "cell_type": "code",
   "execution_count": 282,
   "metadata": {},
   "outputs": [],
   "source": [
    "import pickle\n",
    "\n",
    "# Save model\n",
    "filename = 'models/logistic_regression.sav'\n",
    "pickle.dump(model, open(filename, 'wb'))"
   ]
  },
  {
   "cell_type": "markdown",
   "metadata": {},
   "source": [
    "### Augmenting With CM Sketch"
   ]
  },
  {
   "cell_type": "code",
   "execution_count": 327,
   "metadata": {},
   "outputs": [],
   "source": [
    "import pickle\n",
    "import numpy as np\n",
    "\n",
    "class LogisticRegressionOracle(Oracle):\n",
    "\n",
    "    def __init__(self, model, vectorizer):\n",
    "        self.model = model\n",
    "        self.vectorizer = vectorizer\n",
    "    \n",
    "    def predict_heavy_hitter(self, token: str):\n",
    "        features = vectorizer.transform([token])\n",
    "        prediction = (self.model.predict_proba(features)[:, 1] >= DECISION_THRESHOLD).astype(int)\n",
    "        return prediction[0]\n",
    "    \n",
    "    def get_memory_usage(self):\n",
    "        return sys.getsizeof(pickle.dumps(self.model)) + sys.getsizeof(pickle.dumps(self.vectorizer))\n",
    "\n",
    "lr_model = pickle.load(open('models/logistic_regression.sav', 'rb'))\n",
    "lr_oracle = LogisticRegressionOracle(lr_model, vectorizer)\n",
    "    \n",
    "lr_sketches = [CountMinSketchWithOracle(D, 2 ** R, lr_oracle) for R in range(13, 17)]"
   ]
  },
  {
   "cell_type": "code",
   "execution_count": 286,
   "metadata": {},
   "outputs": [
    {
     "ename": "KeyboardInterrupt",
     "evalue": "",
     "output_type": "error",
     "traceback": [
      "\u001b[0;31m---------------------------------------------------------------------------\u001b[0m",
      "\u001b[0;31mKeyboardInterrupt\u001b[0m                         Traceback (most recent call last)",
      "\u001b[1;32m/Users/tahahasan/Desktop/COMP480_Project/test.ipynb Cell 27\u001b[0m line \u001b[0;36m3\n\u001b[1;32m      <a href='vscode-notebook-cell:/Users/tahahasan/Desktop/COMP480_Project/test.ipynb#X34sZmlsZQ%3D%3D?line=0'>1</a>\u001b[0m \u001b[39mfor\u001b[39;00m query \u001b[39min\u001b[39;00m queries:\n\u001b[1;32m      <a href='vscode-notebook-cell:/Users/tahahasan/Desktop/COMP480_Project/test.ipynb#X34sZmlsZQ%3D%3D?line=1'>2</a>\u001b[0m     \u001b[39mfor\u001b[39;00m sketch \u001b[39min\u001b[39;00m lr_sketches:\n\u001b[0;32m----> <a href='vscode-notebook-cell:/Users/tahahasan/Desktop/COMP480_Project/test.ipynb#X34sZmlsZQ%3D%3D?line=2'>3</a>\u001b[0m         sketch\u001b[39m.\u001b[39;49minsert(query)\n",
      "\u001b[1;32m/Users/tahahasan/Desktop/COMP480_Project/test.ipynb Cell 27\u001b[0m line \u001b[0;36m1\n\u001b[1;32m     <a href='vscode-notebook-cell:/Users/tahahasan/Desktop/COMP480_Project/test.ipynb#X34sZmlsZQ%3D%3D?line=10'>11</a>\u001b[0m \u001b[39mdef\u001b[39;00m \u001b[39minsert\u001b[39m(\u001b[39mself\u001b[39m, token: \u001b[39mstr\u001b[39m):\n\u001b[0;32m---> <a href='vscode-notebook-cell:/Users/tahahasan/Desktop/COMP480_Project/test.ipynb#X34sZmlsZQ%3D%3D?line=11'>12</a>\u001b[0m   \u001b[39mif\u001b[39;00m token \u001b[39min\u001b[39;00m \u001b[39mself\u001b[39m\u001b[39m.\u001b[39mheavy_hitter_counts \u001b[39mor\u001b[39;00m \u001b[39mself\u001b[39;49m\u001b[39m.\u001b[39;49moracle\u001b[39m.\u001b[39;49mpredict_heavy_hitter(token) \u001b[39m==\u001b[39m \u001b[39m1\u001b[39m:\n\u001b[1;32m     <a href='vscode-notebook-cell:/Users/tahahasan/Desktop/COMP480_Project/test.ipynb#X34sZmlsZQ%3D%3D?line=12'>13</a>\u001b[0m     \u001b[39mself\u001b[39m\u001b[39m.\u001b[39mheavy_hitter_counts[token] \u001b[39m+\u001b[39m\u001b[39m=\u001b[39m \u001b[39m1\u001b[39m\n\u001b[1;32m     <a href='vscode-notebook-cell:/Users/tahahasan/Desktop/COMP480_Project/test.ipynb#X34sZmlsZQ%3D%3D?line=13'>14</a>\u001b[0m   \u001b[39melse\u001b[39;00m:\n",
      "\u001b[1;32m/Users/tahahasan/Desktop/COMP480_Project/test.ipynb Cell 27\u001b[0m line \u001b[0;36m1\n\u001b[1;32m     <a href='vscode-notebook-cell:/Users/tahahasan/Desktop/COMP480_Project/test.ipynb#X34sZmlsZQ%3D%3D?line=9'>10</a>\u001b[0m \u001b[39mdef\u001b[39;00m \u001b[39mpredict_heavy_hitter\u001b[39m(\u001b[39mself\u001b[39m, token: \u001b[39mstr\u001b[39m):\n\u001b[0;32m---> <a href='vscode-notebook-cell:/Users/tahahasan/Desktop/COMP480_Project/test.ipynb#X34sZmlsZQ%3D%3D?line=10'>11</a>\u001b[0m     features \u001b[39m=\u001b[39m vectorizer\u001b[39m.\u001b[39;49mtransform([token])\n\u001b[1;32m     <a href='vscode-notebook-cell:/Users/tahahasan/Desktop/COMP480_Project/test.ipynb#X34sZmlsZQ%3D%3D?line=11'>12</a>\u001b[0m     prediction \u001b[39m=\u001b[39m (\u001b[39mself\u001b[39m\u001b[39m.\u001b[39mmodel\u001b[39m.\u001b[39mpredict_proba(features)[:, \u001b[39m1\u001b[39m] \u001b[39m>\u001b[39m\u001b[39m=\u001b[39m DECISION_THRESHOLD)\u001b[39m.\u001b[39mastype(\u001b[39mint\u001b[39m)\n\u001b[1;32m     <a href='vscode-notebook-cell:/Users/tahahasan/Desktop/COMP480_Project/test.ipynb#X34sZmlsZQ%3D%3D?line=12'>13</a>\u001b[0m     \u001b[39mreturn\u001b[39;00m prediction[\u001b[39m0\u001b[39m]\n",
      "File \u001b[0;32m~/Library/Python/3.9/lib/python/site-packages/sklearn/feature_extraction/text.py:2164\u001b[0m, in \u001b[0;36mTfidfVectorizer.transform\u001b[0;34m(self, raw_documents)\u001b[0m\n\u001b[1;32m   2161\u001b[0m check_is_fitted(\u001b[39mself\u001b[39m, msg\u001b[39m=\u001b[39m\u001b[39m\"\u001b[39m\u001b[39mThe TF-IDF vectorizer is not fitted\u001b[39m\u001b[39m\"\u001b[39m)\n\u001b[1;32m   2163\u001b[0m X \u001b[39m=\u001b[39m \u001b[39msuper\u001b[39m()\u001b[39m.\u001b[39mtransform(raw_documents)\n\u001b[0;32m-> 2164\u001b[0m \u001b[39mreturn\u001b[39;00m \u001b[39mself\u001b[39;49m\u001b[39m.\u001b[39;49m_tfidf\u001b[39m.\u001b[39;49mtransform(X, copy\u001b[39m=\u001b[39;49m\u001b[39mFalse\u001b[39;49;00m)\n",
      "File \u001b[0;32m~/Library/Python/3.9/lib/python/site-packages/sklearn/feature_extraction/text.py:1727\u001b[0m, in \u001b[0;36mTfidfTransformer.transform\u001b[0;34m(self, X, copy)\u001b[0m\n\u001b[1;32m   1724\u001b[0m     check_is_fitted(\u001b[39mself\u001b[39m, attributes\u001b[39m=\u001b[39m[\u001b[39m\"\u001b[39m\u001b[39midf_\u001b[39m\u001b[39m\"\u001b[39m], msg\u001b[39m=\u001b[39m\u001b[39m\"\u001b[39m\u001b[39midf vector is not fitted\u001b[39m\u001b[39m\"\u001b[39m)\n\u001b[1;32m   1726\u001b[0m     \u001b[39m# *= doesn't work\u001b[39;00m\n\u001b[0;32m-> 1727\u001b[0m     X \u001b[39m=\u001b[39m X \u001b[39m*\u001b[39;49m \u001b[39mself\u001b[39;49m\u001b[39m.\u001b[39;49m_idf_diag\n\u001b[1;32m   1729\u001b[0m \u001b[39mif\u001b[39;00m \u001b[39mself\u001b[39m\u001b[39m.\u001b[39mnorm \u001b[39mis\u001b[39;00m \u001b[39mnot\u001b[39;00m \u001b[39mNone\u001b[39;00m:\n\u001b[1;32m   1730\u001b[0m     X \u001b[39m=\u001b[39m normalize(X, norm\u001b[39m=\u001b[39m\u001b[39mself\u001b[39m\u001b[39m.\u001b[39mnorm, copy\u001b[39m=\u001b[39m\u001b[39mFalse\u001b[39;00m)\n",
      "File \u001b[0;32m~/Library/Python/3.9/lib/python/site-packages/scipy/sparse/_matrix.py:48\u001b[0m, in \u001b[0;36mspmatrix.__mul__\u001b[0;34m(self, other)\u001b[0m\n\u001b[1;32m     47\u001b[0m \u001b[39mdef\u001b[39;00m \u001b[39m__mul__\u001b[39m(\u001b[39mself\u001b[39m, other):\n\u001b[0;32m---> 48\u001b[0m     \u001b[39mreturn\u001b[39;00m \u001b[39mself\u001b[39;49m\u001b[39m.\u001b[39;49m_mul_dispatch(other)\n",
      "File \u001b[0;32m~/Library/Python/3.9/lib/python/site-packages/scipy/sparse/_base.py:535\u001b[0m, in \u001b[0;36m_spbase._mul_dispatch\u001b[0;34m(self, other)\u001b[0m\n\u001b[1;32m    533\u001b[0m     \u001b[39mif\u001b[39;00m \u001b[39mself\u001b[39m\u001b[39m.\u001b[39mshape[\u001b[39m1\u001b[39m] \u001b[39m!=\u001b[39m other\u001b[39m.\u001b[39mshape[\u001b[39m0\u001b[39m]:\n\u001b[1;32m    534\u001b[0m         \u001b[39mraise\u001b[39;00m \u001b[39mValueError\u001b[39;00m(\u001b[39m'\u001b[39m\u001b[39mdimension mismatch\u001b[39m\u001b[39m'\u001b[39m)\n\u001b[0;32m--> 535\u001b[0m     \u001b[39mreturn\u001b[39;00m \u001b[39mself\u001b[39;49m\u001b[39m.\u001b[39;49m_mul_sparse_matrix(other)\n\u001b[1;32m    537\u001b[0m \u001b[39m# If it's a list or whatever, treat it like an array\u001b[39;00m\n\u001b[1;32m    538\u001b[0m other_a \u001b[39m=\u001b[39m np\u001b[39m.\u001b[39masanyarray(other)\n",
      "File \u001b[0;32m~/Library/Python/3.9/lib/python/site-packages/scipy/sparse/_compressed.py:517\u001b[0m, in \u001b[0;36m_cs_matrix._mul_sparse_matrix\u001b[0;34m(self, other)\u001b[0m\n\u001b[1;32m    513\u001b[0m idx_dtype \u001b[39m=\u001b[39m \u001b[39mself\u001b[39m\u001b[39m.\u001b[39m_get_index_dtype((\u001b[39mself\u001b[39m\u001b[39m.\u001b[39mindptr, \u001b[39mself\u001b[39m\u001b[39m.\u001b[39mindices,\n\u001b[1;32m    514\u001b[0m                              other\u001b[39m.\u001b[39mindptr, other\u001b[39m.\u001b[39mindices))\n\u001b[1;32m    516\u001b[0m fn \u001b[39m=\u001b[39m \u001b[39mgetattr\u001b[39m(_sparsetools, \u001b[39mself\u001b[39m\u001b[39m.\u001b[39mformat \u001b[39m+\u001b[39m \u001b[39m'\u001b[39m\u001b[39m_matmat_maxnnz\u001b[39m\u001b[39m'\u001b[39m)\n\u001b[0;32m--> 517\u001b[0m nnz \u001b[39m=\u001b[39m fn(M, N,\n\u001b[1;32m    518\u001b[0m          np\u001b[39m.\u001b[39;49masarray(\u001b[39mself\u001b[39;49m\u001b[39m.\u001b[39;49mindptr, dtype\u001b[39m=\u001b[39;49midx_dtype),\n\u001b[1;32m    519\u001b[0m          np\u001b[39m.\u001b[39;49masarray(\u001b[39mself\u001b[39;49m\u001b[39m.\u001b[39;49mindices, dtype\u001b[39m=\u001b[39;49midx_dtype),\n\u001b[1;32m    520\u001b[0m          np\u001b[39m.\u001b[39;49masarray(other\u001b[39m.\u001b[39;49mindptr, dtype\u001b[39m=\u001b[39;49midx_dtype),\n\u001b[1;32m    521\u001b[0m          np\u001b[39m.\u001b[39;49masarray(other\u001b[39m.\u001b[39;49mindices, dtype\u001b[39m=\u001b[39;49midx_dtype))\n\u001b[1;32m    523\u001b[0m idx_dtype \u001b[39m=\u001b[39m \u001b[39mself\u001b[39m\u001b[39m.\u001b[39m_get_index_dtype((\u001b[39mself\u001b[39m\u001b[39m.\u001b[39mindptr, \u001b[39mself\u001b[39m\u001b[39m.\u001b[39mindices,\n\u001b[1;32m    524\u001b[0m                              other\u001b[39m.\u001b[39mindptr, other\u001b[39m.\u001b[39mindices),\n\u001b[1;32m    525\u001b[0m                             maxval\u001b[39m=\u001b[39mnnz)\n\u001b[1;32m    527\u001b[0m indptr \u001b[39m=\u001b[39m np\u001b[39m.\u001b[39mempty(major_axis \u001b[39m+\u001b[39m \u001b[39m1\u001b[39m, dtype\u001b[39m=\u001b[39midx_dtype)\n",
      "\u001b[0;31mKeyboardInterrupt\u001b[0m: "
     ]
    }
   ],
   "source": [
    "# for query in queries:\n",
    "#     for sketch in lr_sketches:\n",
    "#         sketch.insert(query)\n",
    "\n",
    "# for i in range(len(lr_sketches)):\n",
    "#     sketch = lr_sketch[i]\n",
    "#     for query in queries:\n",
    "#         sketch.insert(query)\n",
    "#     print(\"Filled sketch\", i)\n",
    "    "
   ]
  },
  {
   "cell_type": "code",
   "execution_count": 311,
   "metadata": {},
   "outputs": [],
   "source": [
    "vectorized_queries = vectorizer.transform(queries)\n",
    "is_heavy_hitter = list((model.predict_proba(vectorized_queries)[:, 1] >= DECISION_THRESHOLD).astype(int))"
   ]
  },
  {
   "cell_type": "code",
   "execution_count": 328,
   "metadata": {},
   "outputs": [],
   "source": [
    "for sketch in lr_sketches:\n",
    "    sketch.fast_insert(queries, is_heavy_hitter)"
   ]
  },
  {
   "cell_type": "code",
   "execution_count": 329,
   "metadata": {},
   "outputs": [],
   "source": [
    "from statistics import mean, median\n",
    "\n",
    "def get_error_statistics(sketch, token_counts):\n",
    "    errors = []\n",
    "    for token, actual_count in token_counts:\n",
    "        estimated_count = sketch.query(token)\n",
    "        errors.append(abs(estimated_count - actual_count))\n",
    "    return mean(errors), median(errors)"
   ]
  },
  {
   "cell_type": "code",
   "execution_count": 330,
   "metadata": {},
   "outputs": [],
   "source": [
    "# print(\"Min Sketch\")\n",
    "# errors = get_error_statistics(sketch, tokens_freq.items())\n",
    "# print(\"Mean error:\", errors[0])\n",
    "# print(\"Median error:\", errors[1])\n",
    "# print(\"Memory usage:\", str(sketch.get_memory_usage() / (10 ** 6)), \"MB\")\n",
    "# print()\n",
    "\n",
    "# print(\"Min Sketch With Perfect Oracle\")\n",
    "# errors = get_error_statistics(sketch_with_oracle, tokens_freq.items())\n",
    "# print(\"Mean error:\", errors[0])\n",
    "# print(\"Median error:\", errors[1])\n",
    "# print(\"Memory usage:\", str(sketch_with_oracle.get_memory_usage() / (10 ** 6)), \"MB\")"
   ]
  },
  {
   "cell_type": "code",
   "execution_count": 331,
   "metadata": {},
   "outputs": [],
   "source": [
    "# import matplotlib.pyplot as plt\n",
    "\n",
    "# def plot_errors(sketch, sketch_with_oracle, token_counts, title=\"\"):\n",
    "\n",
    "#   min_sketch_errors = []\n",
    "#   sketch_with_oracle_errors = []\n",
    "\n",
    "#   for token, actual_count in token_counts:\n",
    "#     estimated_count = sketch.query(token)\n",
    "#     min_sketch_errors.append(abs(estimated_count - actual_count)/actual_count)\n",
    "\n",
    "#     estimated_count = sketch_with_oracle.query(token)\n",
    "#     sketch_with_oracle_errors.append(abs(estimated_count - actual_count)/actual_count)\n",
    "\n",
    "#   plt.plot(min_sketch_errors, label = \"Count Min Sketch\")\n",
    "#   plt.plot(sketch_with_oracle_errors, label = \"Count Min Sketch With Oracle\")\n",
    "#   plt.xlabel(\"Token\")\n",
    "#   plt.ylabel(\"Error\")\n",
    "#   plt.title(title)\n",
    "#   plt.legend()\n",
    "#   plt.show()"
   ]
  },
  {
   "cell_type": "code",
   "execution_count": 332,
   "metadata": {},
   "outputs": [],
   "source": [
    "# plot_errors(sketch, sketch_with_oracle, freq_tokens, \"Error For Most Frequent Words\")\n",
    "# plot_errors(sketch, sketch_with_oracle, infreq_tokens, \"Error For Most Infrequent Words\")\n",
    "# plot_errors(sketch, sketch_with_oracle, random_tokens, \"Error For Random Words\")"
   ]
  },
  {
   "cell_type": "code",
   "execution_count": 333,
   "metadata": {},
   "outputs": [],
   "source": [
    "def calculate_error_vs_memory(sketches, sketches_with_oracle, lr_sketches, token_counts, title=\"\"):\n",
    "\n",
    "  min_sketch_errors = []\n",
    "  min_sketch_memory = []\n",
    "  sketch_with_oracle_errors = []\n",
    "  sketch_with_oracle_memory = []\n",
    "  lr_sketch_errors = []\n",
    "  lr_sketch_memory = []\n",
    "\n",
    "  for sketch in sketches:\n",
    "    min_sketch_errors.append(get_error_statistics(sketch, token_counts)[0])\n",
    "    min_sketch_memory.append(sketch.get_memory_usage())\n",
    "\n",
    "  for sketch in sketches_with_oracle:\n",
    "    sketch_with_oracle_errors.append(get_error_statistics(sketch, token_counts)[0])\n",
    "    sketch_with_oracle_memory.append(sketch.get_memory_usage())\n",
    "\n",
    "  for sketch in lr_sketches:\n",
    "    lr_sketch_errors.append(get_error_statistics(sketch, token_counts)[0])\n",
    "    lr_sketch_memory.append(sketch.get_memory_usage())\n",
    "\n",
    "  return min_sketch_errors, min_sketch_memory, sketch_with_oracle_errors, sketch_with_oracle_memory, lr_sketch_errors, lr_sketch_memory"
   ]
  },
  {
   "cell_type": "code",
   "execution_count": 334,
   "metadata": {},
   "outputs": [],
   "source": [
    "min_sketch_errors, min_sketch_memory, sketch_with_oracle_errors, sketch_with_oracle_memory, lr_sketch_errors, lr_sketch_memory = calculate_error_vs_memory(sketches, sketches_with_oracles, lr_sketches, common_tokens)"
   ]
  },
  {
   "cell_type": "code",
   "execution_count": 335,
   "metadata": {},
   "outputs": [
    {
     "name": "stdout",
     "output_type": "stream",
     "text": [
      "[310.075, 144.442, 65.006, 27.67]\n",
      "[262416, 524560, 1048848, 2097424]\n",
      "[146.828, 68.592, 31.038, 13.212]\n",
      "[280944, 543088, 1067376, 2115952]\n",
      "[181.454, 84.891, 38.298, 16.234]\n",
      "[299384, 561528, 1085816, 2134392]\n"
     ]
    }
   ],
   "source": [
    "print(min_sketch_errors)\n",
    "print(min_sketch_memory)\n",
    "print(sketch_with_oracle_errors)\n",
    "print(sketch_with_oracle_memory)\n",
    "print(lr_sketch_errors)\n",
    "print(lr_sketch_memory)"
   ]
  },
  {
   "cell_type": "code",
   "execution_count": 338,
   "metadata": {},
   "outputs": [
    {
     "data": {
      "image/png": "[encoded data removed]",
      "text/plain": [
       "<Figure size 640x480 with 1 Axes>"
      ]
     },
     "metadata": {},
     "output_type": "display_data"
    }
   ],
   "source": [
    "import matplotlib.pyplot as plt\n",
    "\n",
    "plt.xscale(\"log\")\n",
    "plt.plot(min_sketch_memory, min_sketch_errors, label = \"CM Sketch\")\n",
    "plt.plot(sketch_with_oracle_memory, sketch_with_oracle_errors, label = \"CM Sketch With Ideal Oracle\")\n",
    "plt.plot(lr_sketch_memory, lr_sketch_errors, label = \"CM Sketch With LR Oracle\")\n",
    "plt.xlabel(\"Memory(bytes)\")\n",
    "plt.ylabel(\"Average Error Per Item (Frequency)\")\n",
    "plt.legend()\n",
    "plt.show()"
   ]
  }
 ],
 "metadata": {
  "kernelspec": {
   "display_name": "Python 3",
   "language": "python",
   "name": "python3"
  },
  "language_info": {
   "codemirror_mode": {
    "name": "ipython",
    "version": 3
   },
   "file_extension": ".py",
   "mimetype": "text/x-python",
   "name": "python",
   "nbconvert_exporter": "python",
   "pygments_lexer": "ipython3",
   "version": "3.9.6"
  }
 },
 "nbformat": 4,
 "nbformat_minor": 2
}
