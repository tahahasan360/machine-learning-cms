{
 "cells": [
  {
   "cell_type": "markdown",
   "metadata": {},
   "source": [
    "# Using Machine Learning To Improve Count-Min Sketches"
   ]
  },
  {
   "cell_type": "code",
   "execution_count": 1,
   "metadata": {},
   "outputs": [],
   "source": [
    "from sklearn.utils import murmurhash3_32\n",
    "import random\n",
    "import sys\n",
    "\n",
    "random.seed(13)\n",
    "\n",
    "def h(x, seed, R):\n",
    "    return murmurhash3_32(key=x, seed=seed) % R\n",
    "\n",
    "class CountMinSketch:\n",
    "  def __init__(self, d: int, R: int):\n",
    "    self.d = d\n",
    "    self.R = R\n",
    "    self.array = []\n",
    "\n",
    "    for _i in range(d):\n",
    "      self.array.append([0] * R)\n",
    "\n",
    "  def insert(self, token: str):\n",
    "    for i in range(self.d):\n",
    "      hash = h(token, i, self.R)\n",
    "      self.array[i][hash] += 1\n",
    "\n",
    "  def query(self, token: str):\n",
    "    res = []\n",
    "    for i in range(self.d):\n",
    "      hash = h(token, i, self.R)\n",
    "      res.append(self.array[i][hash])\n",
    "    return min(res)\n",
    "  \n",
    "  def get_memory_usage(self):\n",
    "    memory = sys.getsizeof(self)\n",
    "    for subarray in self.array:\n",
    "      memory += sys.getsizeof(subarray)\n",
    "    return memory"
   ]
  },
  {
   "cell_type": "markdown",
   "metadata": {},
   "source": [
    "## Oracle Architecture"
   ]
  },
  {
   "cell_type": "code",
   "execution_count": 81,
   "metadata": {},
   "outputs": [],
   "source": [
    "from collections import defaultdict\n",
    "\n",
    "from abc import ABC, abstractmethod \n",
    "  \n",
    "class Oracle(ABC): \n",
    "  \n",
    "    @abstractmethod\n",
    "    def predict_heavy_hitter(self, token): \n",
    "        pass\n",
    "\n",
    "    @abstractmethod\n",
    "    def get_memory_usage(self): \n",
    "        pass\n",
    "\n",
    "class CountMinSketchWithOracle(CountMinSketch):\n",
    "\n",
    "  def __init__(self, d: int, R: int, oracle: Oracle):\n",
    "    super().__init__(d, R)\n",
    "    self.oracle = oracle\n",
    "    self.heavy_hitter_counts = {}\n",
    "\n",
    "  def insert(self, token: str):\n",
    "    if token in self.heavy_hitter_counts:\n",
    "      self.heavy_hitter_counts[token] += 1\n",
    "    elif self.oracle.predict_heavy_hitter(token) == 1:\n",
    "      self.heavy_hitter_counts[token] = 1\n",
    "    else:\n",
    "      super().insert(token)\n",
    "  \n",
    "  def fast_insert(self, tokens, is_heavy_hitter):\n",
    "    for i in range(len(tokens)):\n",
    "      if is_heavy_hitter[i] == 1:\n",
    "        if token in self.heavy_hitter_counts:\n",
    "          self.heavy_hitter_counts[tokens[i]] += 1\n",
    "        else:\n",
    "          self.heavy_hitter_counts[tokens[i]] = 1\n",
    "      else:\n",
    "        super().insert(tokens[i])\n",
    "\n",
    "  def query(self, token: str):\n",
    "    if token in self.heavy_hitter_counts:\n",
    "      return self.heavy_hitter_counts[token]\n",
    "    else:\n",
    "      return super().query(token)\n",
    "    \n",
    "  def get_memory_usage(self):\n",
    "    return super().get_memory_usage() + self.oracle.get_memory_usage() + sys.getsizeof(self.heavy_hitter_counts)"
   ]
  },
  {
   "cell_type": "code",
   "execution_count": 82,
   "metadata": {},
   "outputs": [],
   "source": [
    "import pandas as pd\n",
    "\n",
    "queries = []\n",
    "for i in range(1, 2):\n",
    "    data = pd.read_csv('data/aol/user-ct-test-collection-0' + str(i) + '.txt', sep=\"\\t\")\n",
    "    queries.extend(data.Query.dropna())"
   ]
  },
  {
   "cell_type": "code",
   "execution_count": 67,
   "metadata": {},
   "outputs": [],
   "source": [
    "from collections import Counter \n",
    "\n",
    "tokens_freq = Counter(queries)"
   ]
  },
  {
   "cell_type": "code",
   "execution_count": 68,
   "metadata": {},
   "outputs": [
    {
     "name": "stdout",
     "output_type": "stream",
     "text": [
      "1216652\n"
     ]
    }
   ],
   "source": [
    "print(len(tokens_freq))"
   ]
  },
  {
   "cell_type": "code",
   "execution_count": 8,
   "metadata": {},
   "outputs": [],
   "source": [
    "common_tokens = tokens_freq.most_common(1000)"
   ]
  },
  {
   "cell_type": "code",
   "execution_count": 83,
   "metadata": {},
   "outputs": [],
   "source": [
    "import math\n",
    "\n",
    "HEAVY_HITTER_THRESHOLD = sorted(tokens_freq.items(), key = lambda x: x[1], reverse = True)[math.ceil(len(tokens_freq.items()) * 0.01)][1]"
   ]
  },
  {
   "cell_type": "code",
   "execution_count": 84,
   "metadata": {},
   "outputs": [],
   "source": [
    "D = 3\n",
    "R_range = range(13, 17)\n",
    "R_range_oracles = range(12, 17)"
   ]
  },
  {
   "cell_type": "code",
   "execution_count": 85,
   "metadata": {},
   "outputs": [],
   "source": [
    "all_sketches = {\n",
    "    \"basic\": {\n",
    "        \"label\": \"Count Min Sketch\",\n",
    "        \"plot_linestyle\": \"dashed\"\n",
    "    },\n",
    "    \"ideal\": {\n",
    "        \"label\": \"Learned CMS (Ideal)\",\n",
    "        \"plot_linestyle\": \"dashed\"\n",
    "    },\n",
    "    # \"lr\": {\n",
    "    #     \"label\": \"Learned CMS (Logistic Regression)\",\n",
    "    #     \"plot_linestyle\": \"solid\"\n",
    "    # },\n",
    "    # \"svm\": {\n",
    "    #     \"label\": \"Learned CMS (SVM)\",\n",
    "    #     \"plot_linestyle\": \"solid\"\n",
    "    # },\n",
    "    # \"nn\": {\n",
    "    #     \"label\": \"Learned CMS (Simple NN)\",\n",
    "    #     \"plot_linestyle\": \"solid\"\n",
    "    # }\n",
    "}"
   ]
  },
  {
   "cell_type": "markdown",
   "metadata": {},
   "source": [
    "## Basic Count-Min Sketch"
   ]
  },
  {
   "cell_type": "code",
   "execution_count": 86,
   "metadata": {},
   "outputs": [],
   "source": [
    "all_sketches[\"basic\"][\"sketches\"] = [CountMinSketch(D, 2 ** R) for R in R_range]"
   ]
  },
  {
   "cell_type": "code",
   "execution_count": 87,
   "metadata": {},
   "outputs": [],
   "source": [
    "for query in queries:\n",
    "    for sketch in all_sketches[\"basic\"][\"sketches\"]:\n",
    "        sketch.insert(query)"
   ]
  },
  {
   "cell_type": "markdown",
   "metadata": {},
   "source": [
    "## Ideal Oracle (For Benchmarking)"
   ]
  },
  {
   "cell_type": "code",
   "execution_count": 88,
   "metadata": {},
   "outputs": [],
   "source": [
    "class IdealOracle(Oracle): \n",
    "  \n",
    "    def predict_heavy_hitter(self, token): \n",
    "        if token in tokens_freq and tokens_freq[token] >= HEAVY_HITTER_THRESHOLD:\n",
    "            return 1\n",
    "        else: \n",
    "            return 0\n",
    "\n",
    "    def get_memory_usage(self): \n",
    "        return 0\n",
    "\n",
    "ideal_oracle = IdealOracle()\n",
    "all_sketches[\"ideal\"][\"sketches\"] = [CountMinSketchWithOracle(D, 2 ** R, ideal_oracle) for R in R_range_oracles]"
   ]
  },
  {
   "cell_type": "code",
   "execution_count": 89,
   "metadata": {},
   "outputs": [],
   "source": [
    "for query in queries:\n",
    "    for sketch in all_sketches[\"ideal\"][\"sketches\"]:\n",
    "        sketch.insert(query)"
   ]
  },
  {
   "cell_type": "markdown",
   "metadata": {},
   "source": [
    "## Machine Learning Oracles"
   ]
  },
  {
   "cell_type": "code",
   "execution_count": 246,
   "metadata": {},
   "outputs": [],
   "source": [
    "from sklearn.linear_model import LogisticRegression\n",
    "from sklearn.metrics import accuracy_score, f1_score, confusion_matrix, classification_report\n",
    "import numpy as np\n",
    "import pandas as pd\n",
    "from collections import Counter \n",
    "from sklearn.utils import class_weight\n",
    "from sklearn.feature_extraction.text import TfidfVectorizer"
   ]
  },
  {
   "cell_type": "code",
   "execution_count": 247,
   "metadata": {},
   "outputs": [],
   "source": [
    "# Training data\n",
    "training_data = pd.read_csv('data/aol/user-ct-test-collection-05.txt', sep=\"\\t\")\n",
    "training_queries = training_data.Query.dropna()\n",
    "training_tokens_freq = Counter(training_queries)\n",
    "\n",
    "# Testing data\n",
    "testing_data = pd.read_csv('data/aol/user-ct-test-collection-04.txt', sep=\"\\t\")\n",
    "testing_queries = training_data.Query.dropna()\n",
    "testing_tokens_freq = Counter(training_queries)"
   ]
  },
  {
   "cell_type": "code",
   "execution_count": 248,
   "metadata": {},
   "outputs": [],
   "source": [
    "# Prepare the dataset: 1 is a heavy hitter and 0 is not\n",
    "X_train = list(training_tokens_freq.keys())\n",
    "y_train = [1 if freq >= HEAVY_HITTER_THRESHOLD else 0 for freq in training_tokens_freq.values()]\n",
    "X_test = list(testing_tokens_freq.keys())\n",
    "y_test = [1 if freq >= HEAVY_HITTER_THRESHOLD else 0 for freq in testing_tokens_freq.values()]"
   ]
  },
  {
   "cell_type": "code",
   "execution_count": 249,
   "metadata": {},
   "outputs": [],
   "source": [
    "# Vectorize data using 2-gram and 3-gram shingles\n",
    "vectorizer = TfidfVectorizer(analyzer='char', ngram_range=(2, 3))\n",
    "\n",
    "X_train_vectorized = vectorizer.fit_transform(X_train)\n",
    "X_test_vectorized = vectorizer.transform(X_test)\n",
    "vectorized_queries = vectorizer.transform(queries)"
   ]
  },
  {
   "cell_type": "code",
   "execution_count": 250,
   "metadata": {},
   "outputs": [],
   "source": [
    "# Compensate for highly unbalanced data\n",
    "class_weights = class_weight.compute_class_weight('balanced', classes=np.unique(y_train), y=y_train)\n",
    "class_weights_dict = {i : class_weights[i] for i in range(len(class_weights))}"
   ]
  },
  {
   "cell_type": "markdown",
   "metadata": {},
   "source": [
    "### Linear Regression"
   ]
  },
  {
   "cell_type": "code",
   "execution_count": 251,
   "metadata": {},
   "outputs": [],
   "source": [
    "DECISION_THRESHOLD = 0.7"
   ]
  },
  {
   "cell_type": "code",
   "execution_count": 252,
   "metadata": {},
   "outputs": [
    {
     "name": "stderr",
     "output_type": "stream",
     "text": [
      "/Users/tahahasan/Library/Python/3.9/lib/python/site-packages/sklearn/linear_model/_logistic.py:460: ConvergenceWarning: lbfgs failed to converge (status=1):\n",
      "STOP: TOTAL NO. of ITERATIONS REACHED LIMIT.\n",
      "\n",
      "Increase the number of iterations (max_iter) or scale the data as shown in:\n",
      "    https://scikit-learn.org/stable/modules/preprocessing.html\n",
      "Please also refer to the documentation for alternative solver options:\n",
      "    https://scikit-learn.org/stable/modules/linear_model.html#logistic-regression\n",
      "  n_iter_i = _check_optimize_result(\n"
     ]
    },
    {
     "data": {
      "text/html": [
       "<style>#sk-container-id-11 {color: black;}#sk-container-id-11 pre{padding: 0;}#sk-container-id-11 div.sk-toggleable {background-color: white;}#sk-container-id-11 label.sk-toggleable__label {cursor: pointer;display: block;width: 100%;margin-bottom: 0;padding: 0.3em;box-sizing: border-box;text-align: center;}#sk-container-id-11 label.sk-toggleable__label-arrow:before {content: \"▸\";float: left;margin-right: 0.25em;color: #696969;}#sk-container-id-11 label.sk-toggleable__label-arrow:hover:before {color: black;}#sk-container-id-11 div.sk-estimator:hover label.sk-toggleable__label-arrow:before {color: black;}#sk-container-id-11 div.sk-toggleable__content {max-height: 0;max-width: 0;overflow: hidden;text-align: left;background-color: #f0f8ff;}#sk-container-id-11 div.sk-toggleable__content pre {margin: 0.2em;color: black;border-radius: 0.25em;background-color: #f0f8ff;}#sk-container-id-11 input.sk-toggleable__control:checked~div.sk-toggleable__content {max-height: 200px;max-width: 100%;overflow: auto;}#sk-container-id-11 input.sk-toggleable__control:checked~label.sk-toggleable__label-arrow:before {content: \"▾\";}#sk-container-id-11 div.sk-estimator input.sk-toggleable__control:checked~label.sk-toggleable__label {background-color: #d4ebff;}#sk-container-id-11 div.sk-label input.sk-toggleable__control:checked~label.sk-toggleable__label {background-color: #d4ebff;}#sk-container-id-11 input.sk-hidden--visually {border: 0;clip: rect(1px 1px 1px 1px);clip: rect(1px, 1px, 1px, 1px);height: 1px;margin: -1px;overflow: hidden;padding: 0;position: absolute;width: 1px;}#sk-container-id-11 div.sk-estimator {font-family: monospace;background-color: #f0f8ff;border: 1px dotted black;border-radius: 0.25em;box-sizing: border-box;margin-bottom: 0.5em;}#sk-container-id-11 div.sk-estimator:hover {background-color: #d4ebff;}#sk-container-id-11 div.sk-parallel-item::after {content: \"\";width: 100%;border-bottom: 1px solid gray;flex-grow: 1;}#sk-container-id-11 div.sk-label:hover label.sk-toggleable__label {background-color: #d4ebff;}#sk-container-id-11 div.sk-serial::before {content: \"\";position: absolute;border-left: 1px solid gray;box-sizing: border-box;top: 0;bottom: 0;left: 50%;z-index: 0;}#sk-container-id-11 div.sk-serial {display: flex;flex-direction: column;align-items: center;background-color: white;padding-right: 0.2em;padding-left: 0.2em;position: relative;}#sk-container-id-11 div.sk-item {position: relative;z-index: 1;}#sk-container-id-11 div.sk-parallel {display: flex;align-items: stretch;justify-content: center;background-color: white;position: relative;}#sk-container-id-11 div.sk-item::before, #sk-container-id-11 div.sk-parallel-item::before {content: \"\";position: absolute;border-left: 1px solid gray;box-sizing: border-box;top: 0;bottom: 0;left: 50%;z-index: -1;}#sk-container-id-11 div.sk-parallel-item {display: flex;flex-direction: column;z-index: 1;position: relative;background-color: white;}#sk-container-id-11 div.sk-parallel-item:first-child::after {align-self: flex-end;width: 50%;}#sk-container-id-11 div.sk-parallel-item:last-child::after {align-self: flex-start;width: 50%;}#sk-container-id-11 div.sk-parallel-item:only-child::after {width: 0;}#sk-container-id-11 div.sk-dashed-wrapped {border: 1px dashed gray;margin: 0 0.4em 0.5em 0.4em;box-sizing: border-box;padding-bottom: 0.4em;background-color: white;}#sk-container-id-11 div.sk-label label {font-family: monospace;font-weight: bold;display: inline-block;line-height: 1.2em;}#sk-container-id-11 div.sk-label-container {text-align: center;}#sk-container-id-11 div.sk-container {/* jupyter's `normalize.less` sets `[hidden] { display: none; }` but bootstrap.min.css set `[hidden] { display: none !important; }` so we also need the `!important` here to be able to override the default hidden behavior on the sphinx rendered scikit-learn.org. See: https://github.com/scikit-learn/scikit-learn/issues/21755 */display: inline-block !important;position: relative;}#sk-container-id-11 div.sk-text-repr-fallback {display: none;}</style><div id=\"sk-container-id-11\" class=\"sk-top-container\"><div class=\"sk-text-repr-fallback\"><pre>LogisticRegression(class_weight={0: 0.5050445147880297, 1: 50.05878028016407})</pre><b>In a Jupyter environment, please rerun this cell to show the HTML representation or trust the notebook. <br />On GitHub, the HTML representation is unable to render, please try loading this page with nbviewer.org.</b></div><div class=\"sk-container\" hidden><div class=\"sk-item\"><div class=\"sk-estimator sk-toggleable\"><input class=\"sk-toggleable__control sk-hidden--visually\" id=\"sk-estimator-id-11\" type=\"checkbox\" checked><label for=\"sk-estimator-id-11\" class=\"sk-toggleable__label sk-toggleable__label-arrow\">LogisticRegression</label><div class=\"sk-toggleable__content\"><pre>LogisticRegression(class_weight={0: 0.5050445147880297, 1: 50.05878028016407})</pre></div></div></div></div></div>"
      ],
      "text/plain": [
       "LogisticRegression(class_weight={0: 0.5050445147880297, 1: 50.05878028016407})"
      ]
     },
     "execution_count": 252,
     "metadata": {},
     "output_type": "execute_result"
    }
   ],
   "source": [
    "model = LogisticRegression(class_weight=class_weights_dict)\n",
    "model.fit(X_train_vectorized, y_train)"
   ]
  },
  {
   "cell_type": "code",
   "execution_count": 253,
   "metadata": {},
   "outputs": [
    {
     "name": "stdout",
     "output_type": "stream",
     "text": [
      "Accuracy: 0.8915368435373939\n",
      "F1 Score: 0.09301874595992242\n",
      "Confusion Matrix:\n",
      " [[1146114  134584]\n",
      " [   5726    7195]]\n"
     ]
    }
   ],
   "source": [
    "# Evaluate the model\n",
    "predictions = (model.predict_proba(X_test_vectorized)[:, 1] >= DECISION_THRESHOLD).astype(int)\n",
    "print(\"Accuracy:\", accuracy_score(y_test, predictions))\n",
    "print(\"F1 Score:\", f1_score(y_test, predictions))\n",
    "print(\"Confusion Matrix:\\n\", confusion_matrix(y_test, predictions))"
   ]
  },
  {
   "cell_type": "code",
   "execution_count": 254,
   "metadata": {},
   "outputs": [],
   "source": [
    "import pickle\n",
    "\n",
    "# Save model\n",
    "filename = 'models/logistic_regression.sav'\n",
    "pickle.dump(model, open(filename, 'wb'))"
   ]
  },
  {
   "cell_type": "code",
   "execution_count": 255,
   "metadata": {},
   "outputs": [],
   "source": [
    "import pickle\n",
    "import numpy as np\n",
    "\n",
    "# Augment model with CM sketch\n",
    "class LogisticRegressionOracle(Oracle):\n",
    "\n",
    "    def __init__(self, model, vectorizer):\n",
    "        self.model = model\n",
    "        self.vectorizer = vectorizer\n",
    "    \n",
    "    def predict_heavy_hitter(self, token: str):\n",
    "        features = vectorizer.transform([token])\n",
    "        prediction = (self.model.predict_proba(features)[:, 1] >= DECISION_THRESHOLD).astype(int)\n",
    "        return prediction[0]\n",
    "    \n",
    "    def get_memory_usage(self):\n",
    "        return sys.getsizeof(pickle.dumps(self.model)) + sys.getsizeof(pickle.dumps(self.vectorizer))\n",
    "\n",
    "lr_model = pickle.load(open('models/logistic_regression.sav', 'rb'))\n",
    "lr_oracle = LogisticRegressionOracle(lr_model, vectorizer)\n",
    "    \n",
    "all_sketches[\"lr\"][\"sketches\"] = [CountMinSketchWithOracle(D, 2 ** R, lr_oracle) for R in R_range]"
   ]
  },
  {
   "cell_type": "code",
   "execution_count": 256,
   "metadata": {},
   "outputs": [],
   "source": [
    "# for query in queries:\n",
    "#     for sketch in lr_sketches:\n",
    "#         sketch.insert(query)\n",
    "\n",
    "# for i in range(len(lr_sketches)):\n",
    "#     sketch = lr_sketch[i]\n",
    "#     for query in queries:\n",
    "#         sketch.insert(query)\n",
    "#     print(\"Filled sketch\", i)\n",
    "    "
   ]
  },
  {
   "cell_type": "code",
   "execution_count": 257,
   "metadata": {},
   "outputs": [],
   "source": [
    "# Insert all queries\n",
    "is_heavy_hitter = list((model.predict_proba(vectorized_queries)[:, 1] >= DECISION_THRESHOLD).astype(int))\n",
    "for sketch in all_sketches[\"lr\"][\"sketches\"]:\n",
    "    sketch.fast_insert(queries, is_heavy_hitter)"
   ]
  },
  {
   "cell_type": "markdown",
   "metadata": {},
   "source": [
    "### Support Vector Machine (SVM)"
   ]
  },
  {
   "cell_type": "code",
   "execution_count": 3,
   "metadata": {},
   "outputs": [
    {
     "ename": "NameError",
     "evalue": "name 'class_weights_dict' is not defined",
     "output_type": "error",
     "traceback": [
      "\u001b[0;31m---------------------------------------------------------------------------\u001b[0m",
      "\u001b[0;31mNameError\u001b[0m                                 Traceback (most recent call last)",
      "\u001b[1;32m/Users/tahahasan/Desktop/COMP480_Project/main.ipynb Cell 33\u001b[0m line \u001b[0;36m3\n\u001b[1;32m      <a href='vscode-notebook-cell:/Users/tahahasan/Desktop/COMP480_Project/main.ipynb#X42sZmlsZQ%3D%3D?line=0'>1</a>\u001b[0m \u001b[39mfrom\u001b[39;00m \u001b[39msklearn\u001b[39;00m\u001b[39m.\u001b[39;00m\u001b[39msvm\u001b[39;00m \u001b[39mimport\u001b[39;00m LinearSVC\n\u001b[0;32m----> <a href='vscode-notebook-cell:/Users/tahahasan/Desktop/COMP480_Project/main.ipynb#X42sZmlsZQ%3D%3D?line=2'>3</a>\u001b[0m svm_model \u001b[39m=\u001b[39m LinearSVC(class_weight\u001b[39m=\u001b[39mclass_weights_dict)\n\u001b[1;32m      <a href='vscode-notebook-cell:/Users/tahahasan/Desktop/COMP480_Project/main.ipynb#X42sZmlsZQ%3D%3D?line=3'>4</a>\u001b[0m svm_model\u001b[39m.\u001b[39mfit(X_train_vectorized, y_train)\n",
      "\u001b[0;31mNameError\u001b[0m: name 'class_weights_dict' is not defined"
     ]
    }
   ],
   "source": [
    "from sklearn.svm import LinearSVC\n",
    "\n",
    "svm_model = LinearSVC(class_weight=class_weights_dict)\n",
    "svm_model.fit(X_train_vectorized, y_train)"
   ]
  },
  {
   "cell_type": "code",
   "execution_count": null,
   "metadata": {},
   "outputs": [
    {
     "name": "stdout",
     "output_type": "stream",
     "text": [
      "Accuracy: 0.9988118603700162\n",
      "F1 Score: 0.34512143161482745\n",
      "Confusion Matrix:\n",
      " [[1291677    1111]\n",
      " [    426     405]]\n"
     ]
    }
   ],
   "source": [
    "predictions = svm_model.predict(X_test_vectorized)\n",
    "print(\"Accuracy:\", accuracy_score(y_test, predictions))\n",
    "print(\"F1 Score:\", f1_score(y_test, predictions))\n",
    "print(\"Confusion Matrix:\\n\", confusion_matrix(y_test, predictions))"
   ]
  },
  {
   "cell_type": "code",
   "execution_count": null,
   "metadata": {},
   "outputs": [],
   "source": [
    "import pickle\n",
    "\n",
    "# Save model\n",
    "filename = 'models/svm.sav'\n",
    "pickle.dump(model, open(filename, 'wb'))"
   ]
  },
  {
   "cell_type": "code",
   "execution_count": null,
   "metadata": {},
   "outputs": [],
   "source": [
    "import pickle\n",
    "import numpy as np\n",
    "\n",
    "# Augment model with CM sketch\n",
    "class SVMOracle(Oracle):\n",
    "\n",
    "    def __init__(self, model, vectorizer):\n",
    "        self.model = model\n",
    "        self.vectorizer = vectorizer\n",
    "    \n",
    "    def predict_heavy_hitter(self, token: str):\n",
    "        features = vectorizer.transform([token])\n",
    "        prediction = self.model.predict(features)\n",
    "        return prediction[0]\n",
    "    \n",
    "    def get_memory_usage(self):\n",
    "        return sys.getsizeof(pickle.dumps(self.model)) + sys.getsizeof(pickle.dumps(self.vectorizer))\n",
    "\n",
    "svm_model = pickle.load(open('models/svm.sav', 'rb'))\n",
    "svm_oracle = SVMOracle(svm_model, vectorizer)\n",
    "    \n",
    "all_sketches[\"svm\"][\"sketches\"] = [CountMinSketchWithOracle(D, 2 ** R, svm_oracle) for R in R_range]"
   ]
  },
  {
   "cell_type": "code",
   "execution_count": null,
   "metadata": {},
   "outputs": [],
   "source": [
    "# Insert all queries\n",
    "is_heavy_hitter = list(model.predict(vectorized_queries))\n",
    "for sketch in all_sketches[\"svm\"][\"sketches\"]:\n",
    "    sketch.fast_insert(queries, is_heavy_hitter)"
   ]
  },
  {
   "cell_type": "markdown",
   "metadata": {},
   "source": [
    "## Simple (Feed Forward) Neural Network"
   ]
  },
  {
   "cell_type": "code",
   "execution_count": null,
   "metadata": {},
   "outputs": [
    {
     "name": "stderr",
     "output_type": "stream",
     "text": [
      "WARNING:absl:At this time, the v2.11+ optimizer `tf.keras.optimizers.Adam` runs slowly on M1/M2 Macs, please use the legacy Keras optimizer instead, located at `tf.keras.optimizers.legacy.Adam`.\n"
     ]
    },
    {
     "ename": "IndexError",
     "evalue": "tuple index out of range",
     "output_type": "error",
     "traceback": [
      "\u001b[0;31m---------------------------------------------------------------------------\u001b[0m",
      "\u001b[0;31mIndexError\u001b[0m                                Traceback (most recent call last)",
      "\u001b[1;32m/Users/tahahasan/Desktop/COMP480_Project/main.ipynb Cell 38\u001b[0m line \u001b[0;36m1\n\u001b[1;32m      <a href='vscode-notebook-cell:/Users/tahahasan/Desktop/COMP480_Project/main.ipynb#X66sZmlsZQ%3D%3D?line=7'>8</a>\u001b[0m model\u001b[39m.\u001b[39madd(Dense(\u001b[39m1\u001b[39m, activation\u001b[39m=\u001b[39m\u001b[39m'\u001b[39m\u001b[39msigmoid\u001b[39m\u001b[39m'\u001b[39m))  \u001b[39m# Sigmoid for binary classification\u001b[39;00m\n\u001b[1;32m     <a href='vscode-notebook-cell:/Users/tahahasan/Desktop/COMP480_Project/main.ipynb#X66sZmlsZQ%3D%3D?line=9'>10</a>\u001b[0m model\u001b[39m.\u001b[39mcompile(optimizer\u001b[39m=\u001b[39mAdam(learning_rate\u001b[39m=\u001b[39m\u001b[39m0.001\u001b[39m), loss\u001b[39m=\u001b[39m\u001b[39m'\u001b[39m\u001b[39mbinary_crossentropy\u001b[39m\u001b[39m'\u001b[39m, metrics\u001b[39m=\u001b[39m[\u001b[39m'\u001b[39m\u001b[39maccuracy\u001b[39m\u001b[39m'\u001b[39m])\n\u001b[0;32m---> <a href='vscode-notebook-cell:/Users/tahahasan/Desktop/COMP480_Project/main.ipynb#X66sZmlsZQ%3D%3D?line=11'>12</a>\u001b[0m model\u001b[39m.\u001b[39;49mfit(np\u001b[39m.\u001b[39;49marray(X_train_vectorized), np\u001b[39m.\u001b[39;49marray(y_train), epochs\u001b[39m=\u001b[39;49m\u001b[39m10\u001b[39;49m, batch_size\u001b[39m=\u001b[39;49m\u001b[39m32\u001b[39;49m, validation_split\u001b[39m=\u001b[39;49m\u001b[39m0.2\u001b[39;49m)\n",
      "File \u001b[0;32m~/Library/Python/3.9/lib/python/site-packages/keras/src/utils/traceback_utils.py:70\u001b[0m, in \u001b[0;36mfilter_traceback.<locals>.error_handler\u001b[0;34m(*args, **kwargs)\u001b[0m\n\u001b[1;32m     67\u001b[0m     filtered_tb \u001b[39m=\u001b[39m _process_traceback_frames(e\u001b[39m.\u001b[39m__traceback__)\n\u001b[1;32m     68\u001b[0m     \u001b[39m# To get the full stack trace, call:\u001b[39;00m\n\u001b[1;32m     69\u001b[0m     \u001b[39m# `tf.debugging.disable_traceback_filtering()`\u001b[39;00m\n\u001b[0;32m---> 70\u001b[0m     \u001b[39mraise\u001b[39;00m e\u001b[39m.\u001b[39mwith_traceback(filtered_tb) \u001b[39mfrom\u001b[39;00m \u001b[39mNone\u001b[39;00m\n\u001b[1;32m     71\u001b[0m \u001b[39mfinally\u001b[39;00m:\n\u001b[1;32m     72\u001b[0m     \u001b[39mdel\u001b[39;00m filtered_tb\n",
      "File \u001b[0;32m~/Library/Python/3.9/lib/python/site-packages/keras/src/engine/data_adapter.py:1791\u001b[0m, in \u001b[0;36mtrain_validation_split\u001b[0;34m(arrays, validation_split)\u001b[0m\n\u001b[1;32m   1788\u001b[0m         \u001b[39mbreak\u001b[39;00m\n\u001b[1;32m   1790\u001b[0m \u001b[39m# Assumes all arrays have the same batch shape or are `None`.\u001b[39;00m\n\u001b[0;32m-> 1791\u001b[0m batch_dim \u001b[39m=\u001b[39m \u001b[39mint\u001b[39m(first_non_none\u001b[39m.\u001b[39;49mshape[\u001b[39m0\u001b[39;49m])\n\u001b[1;32m   1792\u001b[0m split_at \u001b[39m=\u001b[39m \u001b[39mint\u001b[39m(math\u001b[39m.\u001b[39mfloor(batch_dim \u001b[39m*\u001b[39m (\u001b[39m1.0\u001b[39m \u001b[39m-\u001b[39m validation_split)))\n\u001b[1;32m   1794\u001b[0m \u001b[39mif\u001b[39;00m split_at \u001b[39m==\u001b[39m \u001b[39m0\u001b[39m \u001b[39mor\u001b[39;00m split_at \u001b[39m==\u001b[39m batch_dim:\n",
      "\u001b[0;31mIndexError\u001b[0m: tuple index out of range"
     ]
    }
   ],
   "source": [
    "# from tensorflow.keras.models import Sequential\n",
    "# from tensorflow.keras.layers import Dense\n",
    "# from tensorflow.keras.optimizers import Adam\n",
    "\n",
    "# model = Sequential()\n",
    "# model.add(Dense(64, activation='relu', input_dim=X_train_vectorized.shape[1]))\n",
    "# model.add(Dense(32, activation='relu'))\n",
    "# model.add(Dense(1, activation='sigmoid'))  # Sigmoid for binary classification\n",
    "\n",
    "# model.compile(optimizer=Adam(learning_rate=0.001), loss='binary_crossentropy', metrics=['accuracy'])\n",
    "\n",
    "# model.fit(np.array(X_train_vectorized), np.array(y_train), epochs=10, batch_size=32, validation_split=0.2)"
   ]
  },
  {
   "cell_type": "code",
   "execution_count": null,
   "metadata": {},
   "outputs": [
    {
     "data": {
      "text/plain": [
       "array(<1293619x52687 sparse matrix of type '<class 'numpy.float64'>'\n",
       "\twith 47976573 stored elements in Compressed Sparse Row format>,\n",
       "      dtype=object)"
      ]
     },
     "execution_count": 196,
     "metadata": {},
     "output_type": "execute_result"
    }
   ],
   "source": [
    "# np.array(X_train_vectorized)"
   ]
  },
  {
   "cell_type": "markdown",
   "metadata": {},
   "source": [
    "## Analysis Of Space-Accuracy Tradeoff"
   ]
  },
  {
   "cell_type": "code",
   "execution_count": 90,
   "metadata": {},
   "outputs": [],
   "source": [
    "def get_error_statistics(sketch, token_counts):\n",
    "    error = 0\n",
    "    for token, actual_count in token_counts.items():\n",
    "        estimated_count = sketch.query(token)\n",
    "        error += abs(estimated_count - actual_count) * actual_count\n",
    "    return error / sum(token_counts.values())"
   ]
  },
  {
   "cell_type": "code",
   "execution_count": 91,
   "metadata": {},
   "outputs": [],
   "source": [
    "for sketch_data in all_sketches.values():\n",
    "  sketch_data[\"errors\"] = []\n",
    "  sketch_data[\"memory\"] = []\n",
    "  for sketch in sketch_data[\"sketches\"]:\n",
    "    sketch_data[\"errors\"].append(get_error_statistics(sketch, tokens_freq))\n",
    "    sketch_data[\"memory\"].append(sketch.get_memory_usage() / 10 ** 6)"
   ]
  },
  {
   "cell_type": "code",
   "execution_count": null,
   "metadata": {},
   "outputs": [],
   "source": [
    "# import pickle\n",
    "\n",
    "# Save model\n",
    "# filename = 'sketch_data_aol.sav'\n",
    "# pickle.dump(all_sketches, open(filename, 'wb'))"
   ]
  },
  {
   "cell_type": "code",
   "execution_count": null,
   "metadata": {},
   "outputs": [],
   "source": [
    "# all_sketches = pickle.load(open('sketch_data_aol.sav', 'rb'))"
   ]
  },
  {
   "cell_type": "code",
   "execution_count": 92,
   "metadata": {},
   "outputs": [
    {
     "data": {
      "image/png": "[encoded data removed]",
      "text/plain": [
       "<Figure size 800x800 with 1 Axes>"
      ]
     },
     "metadata": {},
     "output_type": "display_data"
    }
   ],
   "source": [
    "import matplotlib.pyplot as plt\n",
    "\n",
    "plt.figure(figsize=(8,8))\n",
    "# plt.xscale(\"log\")\n",
    "# plt.yscale(\"log\")\n",
    "for sketch_data in all_sketches.values():\n",
    "    plt.plot(sketch_data[\"memory\"], sketch_data[\"errors\"], label = sketch_data[\"label\"], linestyle = sketch_data[\"plot_linestyle\"])\n",
    "plt.xlabel(\"Memory(MB)\")\n",
    "plt.ylabel(\"Average Error Per Item (Frequency)\")\n",
    "plt.legend()\n",
    "plt.show()"
   ]
  }
 ],
 "metadata": {
  "kernelspec": {
   "display_name": "Python 3",
   "language": "python",
   "name": "python3"
  },
  "language_info": {
   "codemirror_mode": {
    "name": "ipython",
    "version": 3
   },
   "file_extension": ".py",
   "mimetype": "text/x-python",
   "name": "python",
   "nbconvert_exporter": "python",
   "pygments_lexer": "ipython3",
   "version": "3.9.6"
  }
 },
 "nbformat": 4,
 "nbformat_minor": 2
}
